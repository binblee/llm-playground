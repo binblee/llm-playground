{
 "cells": [
  {
   "cell_type": "code",
   "execution_count": 3,
   "metadata": {},
   "outputs": [],
   "source": [
    "from dotenv import load_dotenv\n",
    "load_dotenv()\n",
    "\n",
    "import os\n",
    "from openai import OpenAI"
   ]
  },
  {
   "cell_type": "code",
   "execution_count": 4,
   "metadata": {},
   "outputs": [
    {
     "name": "stdout",
     "output_type": "stream",
     "text": [
      "Reasoning: 嗯，我现在要比较9.9和9.11这两个数的大小。首先，这两个数看起来都是小数，但写法不太一样。一个是9.9，另一个是9.11。可能一开始会有点混淆，因为小数点后的位数不同。我需要仔细分析一下它们的数值到底是多少。\n",
      "\n",
      "首先，我应该明确这两个数的结构。9.9可以看作是9加上0.9，也就是9.90，因为小数点后有一位，而9.11则是9加上0.11，也就是小数点后有两位。不过这里需要注意，虽然9.9后面只有一位小数，而9.11有两位，但它们的整数部分都是9，所以比较的重点应该在小数部分。\n",
      "\n",
      "为了更直观地比较，我可以把它们的小数位数统一，比如都写成两位小数。这样9.9就可以写成9.90，而9.11保持原样。这时候再比较小数部分的话，就是比较0.90和0.11了。显然，0.90比0.11大，所以9.90（即原来的9.9）比9.11大。\n",
      "\n",
      "不过，可能有人会犯一个常见的错误，就是直接比较小数点后的数字，比如把9.9的小数部分当作9，而9.11的小数部分当作11，然后觉得11比9大，所以9.11更大。但这种比较方法是错误的，因为小数点后的每一位代表的数值是不同的。比如，第一位是十分位，第二位是百分位，第三位是千分位，以此类推。因此，9.9实际上是9.90，而9.11是9.11，这时候比较的是十分位和百分位的组合。\n",
      "\n",
      "另一个方法是把这两个数转换成分数来比较。9.9等于99/10，而9.11等于911/100。为了比较这两个分数的大小，我们可以找到一个共同的分母，比如100。99/10转换为分母100的话，就是990/100。而911/100保持不变。这时候比较990和911，显然990更大，因此99/10（即9.9）大于911/100（即9.11）。\n",
      "\n",
      "或者，我们可以直接进行减法运算。用9.9减去9.11，看结果是正还是负。不过这里要注意，9.9减9.11可能会涉及到借位。具体来说，9.9可以写成9.90，然后减去9.11：\n",
      "\n",
      "```\n",
      " 9.90\n",
      "-9.11\n",
      "-------\n",
      " 0.79\n",
      "```\n",
      "\n",
      "结果是正的0.79，说明9.9比9.11大。\n",
      "\n",
      "不过，可能有人会疑惑，为什么9.11的小数部分是11，而9.9的小数部分是90？这时候需要回顾小数点的意义。小数点后的第一位是十分位，第二位是百分位，所以9.11中的11实际上是1个十分之一加上1个百分之一，即0.1 + 0.01 = 0.11。而9.9的小数部分是0.9，也就是9个十分之一，即0.90。因此，0.90比0.11大，所以9.9大于9.11。\n",
      "\n",
      "还有一种方法是将这两个数都转换成同一单位，比如百分数。9.9等于990%，而9.11等于911%。显然，990%大于911%，所以同样得出9.9更大的结论。\n",
      "\n",
      "不过，在思考过程中，我可能会想，如果这两个数都是版本号的话，比如软件版本9.9和9.11，那么按照版本号的比较规则，可能会有所不同。通常版本号是按部分分开比较的，例如主版本号和次版本号。比如9.9可能代表主版本9，次版本9，而9.11代表主版本9，次版本11。这时候次版本11比9大，所以9.11作为版本号会比9.9新。不过题目中没有说明是版本号，只是单纯比较数值大小，所以应该按照数值比较来处理。\n",
      "\n",
      "总结一下，无论是通过统一小数位数、转换成分数、直接相减还是转换成百分数，结果都一致显示9.9比9.11大。可能常见的错误是直接比较小数点后的数字，比如认为9.11的小数部分是11比9大，但实际上因为小数点后的位数不同，必须统一位数后再比较。\n",
      "Answer: 9.9比9.11大。以下是具体分析：\n",
      "\n",
      "1. **统一小数位数**：将9.9改写为9.90（补零到两位小数），此时比较小数部分：\n",
      "   - 9.90的小数部分为0.90\n",
      "   - 9.11的小数部分为0.11\n",
      "   - **0.90 > 0.11**，因此9.9 > 9.11。\n",
      "\n",
      "2. **分数转换**：\n",
      "   - 9.9 = 99/10 = 990/100\n",
      "   - 9.11 = 911/100\n",
      "   - **990/100 > 911/100**，故9.9更大。\n",
      "\n",
      "3. **直接相减**：\n",
      "   - 9.90 - 9.11 = 0.79（结果为正），证明9.9更大。\n",
      "\n",
      "4. **百分数比较**：\n",
      "   - 9.9 = 990%\n",
      "   - 9.11 = 911%\n",
      "   - **990% > 911%**，因此9.9更大。\n",
      "\n",
      "**常见误区**：若误将小数点后的数字直接比较（如认为11 > 9），会得出错误结论。实际上，需统一位数后按位比较（十分位和百分位）。\n",
      "\n",
      "**结论**：通过多种方法验证，**9.9大于9.11**。\n"
     ]
    }
   ],
   "source": [
    "client = OpenAI(\n",
    "    api_key=os.getenv('DASHSCOPE_API_KEY'),\n",
    "    base_url=\"https://dashscope.aliyuncs.com/compatible-mode/v1\",\n",
    ")\n",
    "\n",
    "completion = client.chat.completions.create(\n",
    "    model=\"deepseek-r1\",\n",
    "    messages=[\n",
    "        {'role': 'user', 'content': '9.9和9.11谁大'}\n",
    "    ]\n",
    ")\n",
    "\n",
    "print(\"Reasoning:\", completion.choices[0].message.reasoning_content)\n",
    "print(\"Answer:\", completion.choices[0].message.content)"
   ]
  },
  {
   "cell_type": "code",
   "execution_count": 5,
   "metadata": {},
   "outputs": [
    {
     "name": "stdout",
     "output_type": "stream",
     "text": [
      "我是DeepSeek Chat，由深度求索公司（DeepSeek）创造的人工智能助手！🤖✨  \n",
      "\n",
      "我的任务是帮助你解答问题、提供建议、陪你聊天，还能帮你处理各种文本、文档分析等任务。无论是学习、工作，还是生活中的疑问，都可以找我聊聊！😊  \n",
      "\n",
      "有什么我可以帮你的吗？\n"
     ]
    }
   ],
   "source": [
    "# from langchain.chat_models import ChatOpenAI\n",
    "from langchain_openai import ChatOpenAI\n",
    "from langchain.prompts import ChatPromptTemplate\n",
    "from langchain.schema.output_parser import StrOutputParser\n",
    "\n",
    "# 配置DashScope参数（请替换为实际信息）\n",
    "DASHSCOPE_API_KEY = os.getenv('DASHSCOPE_API_KEY')\n",
    "DASHSCOPE_BASE_URL = \"https://dashscope.aliyuncs.com/compatible-mode/v1\"  # 确认实际API地址\n",
    "\n",
    "# https://help.aliyun.com/zh/model-studio/developer-reference/deepseek\n",
    "# model = \"deepseek-r1\"\n",
    "model = \"deepseek-v3\"\n",
    "\n",
    "# 创建自定义ChatOpenAI实例\n",
    "chat = ChatOpenAI(\n",
    "    base_url=DASHSCOPE_BASE_URL,\n",
    "    api_key=DASHSCOPE_API_KEY,\n",
    "    model_name=model, \n",
    "    max_tokens=1024\n",
    ")\n",
    "\n",
    "# 构建对话链\n",
    "prompt = ChatPromptTemplate.from_messages([\n",
    "    # (\"system\", \"你是一个好帮手\"),\n",
    "    (\"user\", \"{input}\")\n",
    "])\n",
    "chain = prompt | chat | StrOutputParser()\n",
    "\n",
    "# 调用模型\n",
    "response = chain.invoke({\"input\": \"你是谁？\"})\n",
    "print(response)"
   ]
  }
 ],
 "metadata": {
  "kernelspec": {
   "display_name": "llm-playground",
   "language": "python",
   "name": "python3"
  },
  "language_info": {
   "codemirror_mode": {
    "name": "ipython",
    "version": 3
   },
   "file_extension": ".py",
   "mimetype": "text/x-python",
   "name": "python",
   "nbconvert_exporter": "python",
   "pygments_lexer": "ipython3",
   "version": "3.13.3"
  }
 },
 "nbformat": 4,
 "nbformat_minor": 2
}
