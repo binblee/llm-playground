{
 "cells": [
  {
   "cell_type": "code",
   "execution_count": 1,
   "metadata": {},
   "outputs": [],
   "source": [
    "from dotenv import load_dotenv\n",
    "load_dotenv()\n",
    "\n",
    "import os\n",
    "from openai import OpenAI"
   ]
  },
  {
   "cell_type": "code",
   "execution_count": 2,
   "metadata": {},
   "outputs": [
    {
     "name": "stdout",
     "output_type": "stream",
     "text": [
      "Reasoning: 首先，用户的问题是：“9.9和9.11谁大”，这看起来是在比较两个数字：9.9 和 9.11。\n",
      "\n",
      "我需要理解这些数字。9.9 是九点九，也就是 9 + 9/10 = 9.9。9.11 是九点一一，也就是 9 + 11/100 = 9.11。\n",
      "\n",
      "现在，比较它们的大小。9.9 相当于 9.90（因为 9.9 = 9.90），而 9.11 是 9.11。\n",
      "\n",
      "比较小数时，从左到右逐位比较。整数部分都是9，所以相同。然后小数部分：9.9 的小数部分是 0.9，9.11 的小数部分是 0.11。\n",
      "\n",
      "0.9 等于 0.90，而 0.90 大于 0.11，因为 90/100 > 11/100。\n",
      "\n",
      "更精确地说：\n",
      "\n",
      "- 9.9 = 9.90\n",
      "\n",
      "- 9.11 = 9.11\n",
      "\n",
      "现在，9.90 和 9.11：比较十分位：9.90 的十分位是9，9.11 的十分位是1。9 > 1，所以 9.90 > 9.11。\n",
      "\n",
      "因此，9.9 大于 9.11。\n",
      "\n",
      "用户可能误解了9.11作为版本号或日期，比如9.11事件，但问题中明确写了“9.9和9.11”，并且是数字比较，所以应该按数字处理。\n",
      "\n",
      "在中文中，“9.9”和“9.11”可能被误解，但根据上下文，应该是数值比较。\n",
      "\n",
      "确认单位：没有指定单位，所以假设是纯数字。\n",
      "\n",
      "所以，9.9 > 9.11。\n",
      "\n",
      "为了更清晰，我可以计算差值：\n",
      "\n",
      "9.9 - 9.11 = 0.79，正数，所以9.9更大。\n",
      "\n",
      "或者，将它们转换为分数：\n",
      "\n",
      "9.9 = 99/10 = 990/100\n",
      "\n",
      "9.11 = 911/100\n",
      "\n",
      "990/100 vs 911/100，显然 990/100 > 911/100。\n",
      "\n",
      "所以，结论是9.9大于9.11。\n",
      "\n",
      "现在，回答应该清晰明了。用户是中文的，所以用中文回复。\n",
      "\n",
      "问题：“9.9和9.11谁大”\n",
      "\n",
      "回答：9.9 大于 9.11。\n",
      "\n",
      "解释：9.9 相当于 9.90，而 9.90 大于 9.11。\n",
      "\n",
      "或者直接说：9.9 比 9.11 大。\n",
      "\n",
      "注意不要引起歧义。9.11 可能让人联想到事件，但这里纯粹是数字比较。\n",
      "\n",
      "最终回答：9.9 更大。\n",
      "Answer: 9.9 和 9.11 都是小数，比较它们的大小时，需要逐位分析：\n",
      "\n",
      "- **整数部分相同**：两者整数部分都是 9。\n",
      "- **小数部分比较**：\n",
      "  - 9.9 可以写成 9.90（因为 9.9 = 9.90）。\n",
      "  - 9.11 的小数部分是 0.11。\n",
      "  - 比较十分位：9.90 的十分位是 9，9.11 的十分位是 1。因为 9 > 1，所以 9.90 > 9.11。\n",
      "\n",
      "因此，**9.9 大于 9.11**。\n",
      "\n",
      "### 简单验证：\n",
      "- 计算差值：9.9 - 9.11 = 0.79（正数，说明 9.9 更大）。\n",
      "- 分数形式：9.9 = 990/100，9.11 = 911/100，990/100 > 911/100。\n",
      "\n",
      "如果这不是数字比较（如版本号或日期），请提供更多上下文，我可以进一步解释！\n"
     ]
    }
   ],
   "source": [
    "client = OpenAI(\n",
    "    api_key=os.getenv('DASHSCOPE_API_KEY'),\n",
    "    base_url=\"https://dashscope.aliyuncs.com/compatible-mode/v1\",\n",
    ")\n",
    "\n",
    "completion = client.chat.completions.create(\n",
    "    model=\"deepseek-r1\",\n",
    "    messages=[\n",
    "        {'role': 'user', 'content': '9.9和9.11谁大'}\n",
    "    ]\n",
    ")\n",
    "\n",
    "print(\"Reasoning:\", completion.choices[0].message.reasoning_content)\n",
    "print(\"Answer:\", completion.choices[0].message.content)"
   ]
  },
  {
   "cell_type": "code",
   "execution_count": 5,
   "metadata": {},
   "outputs": [
    {
     "name": "stdout",
     "output_type": "stream",
     "text": [
      "我是DeepSeek Chat，由深度求索公司（DeepSeek）创造的人工智能助手！🤖✨  \n",
      "\n",
      "我的任务是帮助你解答问题、提供建议、陪你聊天，还能帮你处理各种文本、文档分析等任务。无论是学习、工作，还是生活中的疑问，都可以找我聊聊！😊  \n",
      "\n",
      "有什么我可以帮你的吗？\n"
     ]
    }
   ],
   "source": [
    "# from langchain.chat_models import ChatOpenAI\n",
    "from langchain_openai import ChatOpenAI\n",
    "from langchain.prompts import ChatPromptTemplate\n",
    "from langchain.schema.output_parser import StrOutputParser\n",
    "\n",
    "# 配置DashScope参数（请替换为实际信息）\n",
    "DASHSCOPE_API_KEY = os.getenv('DASHSCOPE_API_KEY')\n",
    "DASHSCOPE_BASE_URL = \"https://dashscope.aliyuncs.com/compatible-mode/v1\"  # 确认实际API地址\n",
    "\n",
    "# https://help.aliyun.com/zh/model-studio/developer-reference/deepseek\n",
    "# model = \"deepseek-r1\"\n",
    "model = \"deepseek-v3\"\n",
    "\n",
    "# 创建自定义ChatOpenAI实例\n",
    "chat = ChatOpenAI(\n",
    "    base_url=DASHSCOPE_BASE_URL,\n",
    "    api_key=DASHSCOPE_API_KEY,\n",
    "    model_name=model, \n",
    "    max_tokens=1024\n",
    ")\n",
    "\n",
    "# 构建对话链\n",
    "prompt = ChatPromptTemplate.from_messages([\n",
    "    # (\"system\", \"你是一个好帮手\"),\n",
    "    (\"user\", \"{input}\")\n",
    "])\n",
    "chain = prompt | chat | StrOutputParser()\n",
    "\n",
    "# 调用模型\n",
    "response = chain.invoke({\"input\": \"你是谁？\"})\n",
    "print(response)"
   ]
  }
 ],
 "metadata": {
  "kernelspec": {
   "display_name": ".venv",
   "language": "python",
   "name": "python3"
  },
  "language_info": {
   "codemirror_mode": {
    "name": "ipython",
    "version": 3
   },
   "file_extension": ".py",
   "mimetype": "text/x-python",
   "name": "python",
   "nbconvert_exporter": "python",
   "pygments_lexer": "ipython3",
   "version": "3.13.5"
  }
 },
 "nbformat": 4,
 "nbformat_minor": 2
}
