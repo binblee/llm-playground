{
 "cells": [
  {
   "cell_type": "code",
   "execution_count": 8,
   "id": "dca7e1d8",
   "metadata": {},
   "outputs": [],
   "source": [
    "from dotenv import load_dotenv\n",
    "load_dotenv()\n",
    "\n",
    "import os\n",
    "from openai import OpenAI\n",
    "\n",
    "client = OpenAI(\n",
    "    api_key=os.getenv('GOOGLE_API_KEY'),\n",
    "    base_url=\"https://generativelanguage.googleapis.com/v1beta/openai/\",\n",
    ")\n",
    "model=\"gemini-2.0-flash\"\n",
    "# model=\"gemini-2.5-flash\""
   ]
  },
  {
   "cell_type": "code",
   "execution_count": 9,
   "id": "3600df69",
   "metadata": {},
   "outputs": [],
   "source": [
    "from IPython.display import display, Markdown\n",
    "md_display = lambda x: display(Markdown(x))"
   ]
  },
  {
   "cell_type": "code",
   "execution_count": 10,
   "id": "96be0bf9",
   "metadata": {},
   "outputs": [
    {
     "data": {
      "text/markdown": [
       "Okay, let's break down how AI works, avoiding overly technical jargon.  Think of it as trying to teach a computer to do things that usually require human intelligence.  Here's a general overview:\n",
       "\n",
       "**1. The Core Idea: Learning from Data**\n",
       "\n",
       "At its heart, AI is about enabling computers to learn from data without being explicitly programmed for every single task.  Instead of telling a computer *exactly* how to do something step-by-step, you give it a lot of examples, and it figures out the rules or patterns on its own.\n",
       "\n",
       "**2. Key Components & Techniques**\n",
       "\n",
       "Here are some of the fundamental components and techniques used in AI:\n",
       "\n",
       "*   **Data:** This is the fuel that powers AI. The more data you have, and the better the quality of that data, the better the AI model can learn.  Data can be anything: text, images, audio, sensor readings, financial figures, etc.\n",
       "\n",
       "*   **Algorithms:** These are the sets of instructions that tell the computer how to learn from the data.  There are many different types of algorithms, each suited for different tasks. Some of the most popular include:\n",
       "\n",
       "    *   **Machine Learning (ML):** This is a broad category of algorithms that allow computers to learn from data without explicit programming.  It's like teaching a dog a trick by rewarding it for good behavior.\n",
       "        *   **Supervised Learning:**  You give the algorithm labeled data (e.g., pictures of cats labeled \"cat\" and pictures of dogs labeled \"dog\").  The algorithm learns to associate the features of the images with the correct label.  This is used for tasks like image recognition, spam filtering, and predicting customer behavior.\n",
       "        *   **Unsupervised Learning:** You give the algorithm unlabeled data (e.g., a bunch of customer purchase histories). The algorithm tries to find patterns and structures in the data on its own, like grouping customers into different segments.  This is used for tasks like customer segmentation, anomaly detection, and recommendation systems.\n",
       "        *   **Reinforcement Learning:** The algorithm learns by trial and error, receiving rewards for good actions and penalties for bad actions.  Think of training a robot to walk by giving it points for staying upright and deducting points for falling.  This is used for tasks like game playing (e.g., AlphaGo), robotics, and resource management.\n",
       "\n",
       "    *   **Deep Learning (DL):** This is a subfield of machine learning that uses artificial neural networks with many layers (hence \"deep\").  These networks are inspired by the structure of the human brain and are very good at learning complex patterns from large amounts of data.  Deep learning is particularly effective for tasks like image recognition, natural language processing, and speech recognition.\n",
       "\n",
       "    *   **Natural Language Processing (NLP):** This focuses on enabling computers to understand, interpret, and generate human language. It combines computer science, linguistics, and AI techniques.\n",
       "\n",
       "    *   **Rule-Based Systems (Expert Systems):** These systems use a set of predefined rules to make decisions. They are useful for tasks where the rules are well-defined and don't change frequently. While an early type of AI, they're less flexible than machine learning approaches.\n",
       "\n",
       "*   **Models:**  After an algorithm has learned from the data, it creates a \"model.\"  This model is essentially a representation of the patterns and relationships it found in the data.  The model can then be used to make predictions or decisions on new, unseen data.\n",
       "\n",
       "*   **Features:** These are the important characteristics or attributes of the data that the algorithm uses to learn. For example, in image recognition, features might include edges, corners, textures, and colors. Feature engineering is the process of selecting and transforming features to improve the performance of the AI model.\n",
       "\n",
       "**3. The Learning Process (Simplified)**\n",
       "\n",
       "Let's say you want to train an AI to recognize cats in pictures (supervised learning):\n",
       "\n",
       "1.  **Gather Data:** Collect a large dataset of images, some of cats and some of other things.  Each image is labeled \"cat\" or \"not cat.\"\n",
       "2.  **Choose an Algorithm:** Select a suitable machine learning algorithm, often a deep learning model (like a convolutional neural network or CNN, which is good at processing images).\n",
       "3.  **Train the Model:** Feed the labeled images to the algorithm. The algorithm analyzes the images and adjusts its internal parameters to learn the features that distinguish cats from other objects. This process is called \"training.\" The algorithm learns to associate specific patterns in the images (e.g., pointy ears, whiskers) with the \"cat\" label.\n",
       "4.  **Test the Model:**  After training, you test the model on a new set of images it hasn't seen before. This helps you evaluate how well the model generalizes to new data and how accurate it is.\n",
       "5.  **Deployment:** If the model performs well, you can deploy it in a real-world application, such as a cat-detection app or a security system.\n",
       "\n",
       "**4. Important Considerations**\n",
       "\n",
       "*   **Bias:** AI models can inherit biases from the data they are trained on. If the training data is not representative of the real world, the model may make biased predictions. For example, if a facial recognition system is trained primarily on images of white faces, it may be less accurate at recognizing faces of people of color.\n",
       "*   **Explainability:** Some AI models, particularly deep learning models, can be difficult to understand. It can be hard to see why a model made a particular prediction. This lack of explainability can be a problem in situations where transparency and accountability are important. This is a very active area of research with techniques like explainable AI (XAI) emerging.\n",
       "*   **Ethics:**  The use of AI raises a number of ethical concerns, such as job displacement, privacy, and the potential for misuse. It's crucial to consider these ethical implications and develop AI systems responsibly.\n",
       "*   **Computational Resources:** Training complex AI models, especially deep learning models, requires significant computational resources, including powerful computers and large amounts of memory. This can be a barrier to entry for some researchers and developers.\n",
       "\n",
       "**In Summary**\n",
       "\n",
       "AI is about creating systems that can learn from data and perform tasks that typically require human intelligence. It involves using algorithms, models, and data to enable computers to make predictions, decisions, and solve problems. While AI has made significant progress in recent years, it's still a rapidly evolving field with many challenges and opportunities.\n"
      ],
      "text/plain": [
       "<IPython.core.display.Markdown object>"
      ]
     },
     "metadata": {},
     "output_type": "display_data"
    }
   ],
   "source": [
    "response = client.chat.completions.create(\n",
    "    model=model,\n",
    "    messages=[\n",
    "        {\"role\": \"system\", \"content\": \"You are a helpful assistant.\"},\n",
    "        {\n",
    "            \"role\": \"user\",\n",
    "            \"content\": \"Explain to me how AI works\"\n",
    "        }\n",
    "    ]\n",
    ")\n",
    "\n",
    "md_display(response.choices[0].message.content)"
   ]
  }
 ],
 "metadata": {
  "kernelspec": {
   "display_name": ".venv",
   "language": "python",
   "name": "python3"
  },
  "language_info": {
   "codemirror_mode": {
    "name": "ipython",
    "version": 3
   },
   "file_extension": ".py",
   "mimetype": "text/x-python",
   "name": "python",
   "nbconvert_exporter": "python",
   "pygments_lexer": "ipython3",
   "version": "3.13.5"
  }
 },
 "nbformat": 4,
 "nbformat_minor": 5
}
