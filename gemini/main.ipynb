{
 "cells": [
  {
   "cell_type": "code",
   "execution_count": 11,
   "id": "dca7e1d8",
   "metadata": {},
   "outputs": [],
   "source": [
    "from dotenv import load_dotenv\n",
    "load_dotenv()\n",
    "\n",
    "import os\n",
    "from openai import OpenAI\n",
    "\n",
    "client = OpenAI(\n",
    "    api_key=os.getenv('GEMINI_API_KEY'),\n",
    "    base_url=\"https://generativelanguage.googleapis.com/v1beta/openai/\",\n",
    ")\n",
    "model=\"gemini-2.0-flash-lite\""
   ]
  },
  {
   "cell_type": "code",
   "execution_count": 12,
   "id": "3600df69",
   "metadata": {},
   "outputs": [],
   "source": [
    "from IPython.display import display, Markdown\n",
    "md_display = lambda x: display(Markdown(x))"
   ]
  },
  {
   "cell_type": "code",
   "execution_count": 13,
   "id": "96be0bf9",
   "metadata": {},
   "outputs": [
    {
     "data": {
      "text/markdown": [
       "Alright, let's break down how AI works in a way that's hopefully easy to understand!  It's a broad field, so I'll focus on the core concepts and then touch on some common techniques.\n",
       "\n",
       "**The Basic Idea: Mimicking Intelligence**\n",
       "\n",
       "At its heart, Artificial Intelligence (AI) is about creating machines that can perform tasks that typically require human intelligence.  This includes things like:\n",
       "\n",
       "*   **Learning:** Acquiring information and rules for using that information.\n",
       "*   **Reasoning:** Using information to draw conclusions or make decisions.\n",
       "*   **Problem Solving:** Finding solutions to complex issues.\n",
       "*   **Perception:** Understanding sensory input (like images, sound, or text).\n",
       "*   **Natural Language Processing (NLP):**  Understanding and generating human language.\n",
       "\n",
       "**Two Main Approaches:**\n",
       "\n",
       "There are generally two broad categories of AI, although the lines can blur:\n",
       "\n",
       "1.  **Rule-Based AI (or Symbolic AI):**\n",
       "\n",
       "    *   **How it works:** This approach relies on explicitly programmed rules and knowledge.  Think of it like a very complex \"if-then-else\" statement system.  A programmer defines the rules, and the AI follows them.\n",
       "    *   **Example:** A medical diagnosis system where rules are defined like \"IF patient has fever AND cough AND sore throat THEN suspect influenza.\"\n",
       "    *   **Pros:** Easy to understand, predictable behavior (if the rules are well-defined).\n",
       "    *   **Cons:**  Difficult to handle complex or ambiguous situations.  Requires a lot of manual programming and knowledge engineering.  Not very adaptable to new situations.\n",
       "\n",
       "2.  **Machine Learning (ML):** This is the dominant approach in modern AI.\n",
       "\n",
       "    *   **How it works:** Instead of being explicitly programmed with rules, the AI learns from data.  It identifies patterns, makes predictions, and improves its performance over time.\n",
       "    *   **Analogy:** Think of teaching a child to recognize a cat. You don't give them a list of rules (\"IF pointy ears AND furry THEN cat\").  Instead, you show them many pictures of cats, and they gradually learn to recognize the patterns.\n",
       "    *   **Types of Machine Learning:** There are several types, but here are the main ones:\n",
       "\n",
       "        *   **Supervised Learning:** The AI is trained on labeled data (data where the correct output is already known). For example, you show the AI images of cats and dogs and tell it which ones are cats and which are dogs. The AI learns to associate features of the images with the correct labels.  Used for classification (categorizing things) and regression (predicting values).\n",
       "        *   **Unsupervised Learning:** The AI is given unlabeled data and must find patterns on its own. For example, you give the AI a dataset of customer transactions and ask it to identify different customer segments based on their spending habits.  Used for clustering (grouping similar data points) and dimensionality reduction (simplifying complex data).\n",
       "        *   **Reinforcement Learning:** The AI learns by trial and error in an environment, receiving rewards for correct actions and penalties for incorrect ones. Think of training a dog with treats.  The AI tries to maximize its reward over time.  Used for game playing, robotics, and control systems.\n",
       "\n",
       "**Key Components of Machine Learning:**\n",
       "\n",
       "*   **Data:** The fuel that powers machine learning.  The more data, the better (usually).\n",
       "*   **Algorithms:** The mathematical formulas and procedures that the AI uses to learn from the data.  Examples include:\n",
       "    *   **Linear Regression:**  For predicting a continuous value (e.g., predicting house prices based on size and location).\n",
       "    *   **Logistic Regression:** For classification (e.g., predicting whether an email is spam or not).\n",
       "    *   **Decision Trees:**  A tree-like structure that makes decisions based on a series of rules.\n",
       "    *   **Support Vector Machines (SVMs):**  A powerful algorithm for classification and regression.\n",
       "    *   **Neural Networks:**  Inspired by the structure of the human brain, these are complex networks of interconnected nodes (neurons) that can learn very complex patterns.  *This is the foundation of Deep Learning.*\n",
       "*   **Features:** The relevant characteristics of the data that the AI uses to make predictions. For example, in image recognition, features might include edges, corners, and textures.  Feature engineering (selecting and transforming features) is a crucial part of machine learning.\n",
       "*   **Model:**  The output of the machine learning process.  It's the learned representation of the data that the AI uses to make predictions.\n",
       "*   **Training:** The process of feeding data to the algorithm and adjusting its parameters to improve its performance.\n",
       "*   **Evaluation:**  Measuring how well the model performs on new, unseen data.  This helps to avoid overfitting (where the model learns the training data too well and doesn't generalize to new data).\n",
       "\n",
       "**Deep Learning:**\n",
       "\n",
       "*   **What it is:** A subfield of machine learning that uses artificial neural networks with many layers (hence \"deep\").\n",
       "*   **How it works:** Deep learning models can automatically learn complex features from raw data, without the need for manual feature engineering.\n",
       "*   **Examples:** Image recognition, natural language processing, speech recognition, and self-driving cars.\n",
       "*   **Key Concepts:**\n",
       "    *   **Neural Networks:** Interconnected nodes organized in layers.  Each connection has a weight that determines the strength of the connection.\n",
       "    *   **Activation Functions:** Introduce non-linearity into the network, allowing it to learn complex patterns.\n",
       "    *   **Backpropagation:**  An algorithm for adjusting the weights in the network to minimize the error between the predicted output and the actual output.\n",
       "    *   **Convolutional Neural Networks (CNNs):**  Specifically designed for processing images.\n",
       "    *   **Recurrent Neural Networks (RNNs):** Designed for processing sequential data, like text and speech.  LSTMs (Long Short-Term Memory) are a popular type of RNN.\n",
       "*   **Why it's so powerful:**  Deep learning models can learn very complex representations of data, leading to state-of-the-art performance in many tasks.\n",
       "\n",
       "**The AI Development Process (Simplified):**\n",
       "\n",
       "1.  **Define the Problem:** What do you want the AI to do?\n",
       "2.  **Gather Data:** Collect a large dataset of relevant data.\n",
       "3.  **Prepare the Data:** Clean, preprocess, and transform the data.\n",
       "4.  **Choose a Model:** Select an appropriate machine learning algorithm or deep learning architecture.\n",
       "5.  **Train the Model:** Feed the data to the model and adjust its parameters to optimize performance.\n",
       "6.  **Evaluate the Model:** Test the model on new data to assess its accuracy and generalization ability.\n",
       "7.  **Deploy the Model:** Integrate the model into a system or application.\n",
       "8.  **Monitor and Maintain:** Continuously monitor the model's performance and retrain it as needed.\n",
       "\n",
       "**Challenges and Considerations:**\n",
       "\n",
       "*   **Bias:** AI models can inherit biases from the data they are trained on. This can lead to unfair or discriminatory outcomes.\n",
       "*   **Explainability:** Deep learning models can be difficult to interpret, making it hard to understand why they make certain predictions.  This is a big issue in areas like healthcare and finance.\n",
       "*   **Data Requirements:** Machine learning and deep learning models typically require large amounts of data to train effectively.\n",
       "*   **Computational Resources:** Training deep learning models can be computationally expensive, requiring specialized hardware like GPUs.\n",
       "*   **Ethical Considerations:**  AI raises important ethical questions about privacy, security, and the potential impact on jobs.\n",
       "\n",
       "**In Summary:**\n",
       "\n",
       "AI is a broad field aimed at creating machines that can perform tasks requiring human intelligence. Modern AI heavily relies on machine learning, where algorithms learn from data rather than being explicitly programmed. Deep learning, a subfield of machine learning, uses artificial neural networks to learn complex patterns and achieve state-of-the-art performance in many areas. Building AI systems involves a process of defining the problem, gathering data, training a model, evaluating its performance, and deploying it. However, challenges like bias, explainability, and data requirements need to be carefully considered to ensure responsible and ethical development and use of AI.\n",
       "\n",
       "I hope this explanation helps!  Let me know if you have any other questions or want me to go into more detail on a particular aspect.\n"
      ],
      "text/plain": [
       "<IPython.core.display.Markdown object>"
      ]
     },
     "metadata": {},
     "output_type": "display_data"
    }
   ],
   "source": [
    "response = client.chat.completions.create(\n",
    "    model=\"gemini-2.0-flash\",\n",
    "    messages=[\n",
    "        {\"role\": \"system\", \"content\": \"You are a helpful assistant.\"},\n",
    "        {\n",
    "            \"role\": \"user\",\n",
    "            \"content\": \"Explain to me how AI works\"\n",
    "        }\n",
    "    ]\n",
    ")\n",
    "\n",
    "md_display(response.choices[0].message.content)"
   ]
  }
 ],
 "metadata": {
  "kernelspec": {
   "display_name": "llm-playground",
   "language": "python",
   "name": "python3"
  },
  "language_info": {
   "codemirror_mode": {
    "name": "ipython",
    "version": 3
   },
   "file_extension": ".py",
   "mimetype": "text/x-python",
   "name": "python",
   "nbconvert_exporter": "python",
   "pygments_lexer": "ipython3",
   "version": "3.12.2"
  }
 },
 "nbformat": 4,
 "nbformat_minor": 5
}
