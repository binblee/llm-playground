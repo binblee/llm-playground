{
 "cells": [
  {
   "cell_type": "code",
   "execution_count": 1,
   "id": "dca7e1d8",
   "metadata": {},
   "outputs": [],
   "source": [
    "from dotenv import load_dotenv\n",
    "load_dotenv()\n",
    "\n",
    "import os\n",
    "from openai import OpenAI\n",
    "\n",
    "client = OpenAI(\n",
    "    api_key=os.getenv('GOOGLE_API_KEY'),\n",
    "    base_url=\"https://generativelanguage.googleapis.com/v1beta/openai/\",\n",
    ")\n",
    "model=\"gemini-2.0-flash\""
   ]
  },
  {
   "cell_type": "code",
   "execution_count": 4,
   "id": "3600df69",
   "metadata": {},
   "outputs": [],
   "source": [
    "from IPython.display import display, Markdown\n",
    "md_display = lambda x: display(Markdown(x))"
   ]
  },
  {
   "cell_type": "code",
   "execution_count": 5,
   "id": "96be0bf9",
   "metadata": {},
   "outputs": [
    {
     "data": {
      "text/markdown": [
       "Okay, let's break down how AI works, covering the core concepts in a way that's easy to understand.  I'll try to avoid getting too technical, but I'll provide enough detail so you get a solid grasp of the fundamentals.\n",
       "\n",
       "**What is AI?**\n",
       "\n",
       "At its most basic, Artificial Intelligence (AI) is about creating computer systems that can perform tasks that typically require human intelligence.  These tasks include:\n",
       "\n",
       "*   **Learning:** Acquiring information and rules for using the information.\n",
       "*   **Reasoning:** Using rules to reach conclusions (either definite or probable).\n",
       "*   **Problem-solving:** Finding solutions to complex situations.\n",
       "*   **Perception:** Interpreting sensory inputs (like images, sounds, or text).\n",
       "*   **Natural Language Understanding:** Comprehending and generating human language.\n",
       "\n",
       "**Key Approaches to Achieving AI**\n",
       "\n",
       "There are several different approaches to building AI systems, but I'll focus on the most prominent ones:\n",
       "\n",
       "1.  **Rule-Based Systems (Expert Systems):**\n",
       "\n",
       "    *   **How it works:**  These systems rely on a set of pre-defined rules created by human experts.  The rules are usually in an \"IF-THEN\" format. For example: \"IF the temperature is above 90 degrees AND the humidity is high, THEN recommend drinking plenty of water.\"\n",
       "    *   **Pros:** Relatively simple to understand and implement, good for well-defined problems.\n",
       "    *   **Cons:**  Brittle (struggles with situations outside the defined rules), difficult to scale to complex problems, requires significant human expertise to create the rules.\n",
       "    *   **Example:**  Early medical diagnosis systems that asked a series of questions and provided a likely diagnosis based on the answers and pre-programmed rules.\n",
       "\n",
       "2.  **Machine Learning (ML):**\n",
       "\n",
       "    *   **How it works:**  Instead of explicitly programming rules, machine learning algorithms *learn* from data.  You feed the algorithm a large dataset, and it identifies patterns and relationships in the data that allow it to make predictions or decisions about new, unseen data.\n",
       "    *   **Key Concepts:**\n",
       "        *   **Training Data:** The data used to teach the algorithm.\n",
       "        *   **Features:** The specific attributes or characteristics of the data that the algorithm uses to learn (e.g., in image recognition, features might be edges, corners, or colors).\n",
       "        *   **Model:** The internal representation of the learned patterns and relationships.\n",
       "        *   **Algorithms:** The mathematical procedures used to learn from the data (e.g., linear regression, decision trees, support vector machines, neural networks).\n",
       "\n",
       "    *   **Types of Machine Learning:**\n",
       "        *   **Supervised Learning:** The algorithm is trained on labeled data (data where the correct answer is known).  The goal is to learn a function that maps inputs to outputs.  Examples: image classification, spam detection.\n",
       "        *   **Unsupervised Learning:** The algorithm is trained on unlabeled data. The goal is to discover hidden patterns or structures in the data. Examples: clustering customers into segments, anomaly detection.\n",
       "        *   **Reinforcement Learning:** The algorithm learns by interacting with an environment and receiving rewards or penalties for its actions. The goal is to learn a policy that maximizes the cumulative reward.  Examples: training a robot to walk, playing games like Go.\n",
       "\n",
       "    *   **Pros:** Can handle complex problems, adapts to changing data, can discover hidden patterns.\n",
       "    *   **Cons:** Requires large amounts of data, can be difficult to interpret the \"reasoning\" behind the predictions, can be susceptible to bias in the training data.\n",
       "    *   **Examples:** Spam filters, recommendation systems (like Netflix or Amazon), fraud detection, medical diagnosis, self-driving cars.\n",
       "\n",
       "3.  **Deep Learning (DL):**\n",
       "\n",
       "    *   **How it works:** Deep learning is a subfield of machine learning that uses artificial neural networks with many layers (hence \"deep\"). These networks are inspired by the structure of the human brain.  Each layer in the network learns to extract increasingly complex features from the data.\n",
       "    *   **Key Concepts:**\n",
       "        *   **Artificial Neural Networks (ANNs):**  Interconnected nodes (neurons) that process and transmit information.\n",
       "        *   **Layers:**  Groups of neurons organized into layers.  Typical architectures include an input layer, hidden layers, and an output layer.\n",
       "        *   **Weights and Biases:** Parameters that are adjusted during training to optimize the network's performance.\n",
       "        *   **Activation Functions:**  Mathematical functions that introduce non-linearity into the network, allowing it to learn complex relationships.\n",
       "    *   **Pros:**  Excellent performance on complex tasks like image recognition, natural language processing, and speech recognition.  Can automatically learn features from raw data, reducing the need for manual feature engineering.\n",
       "    *   **Cons:**  Requires very large amounts of data and significant computational resources (GPUs), can be difficult to interpret the \"reasoning\" behind the predictions (even more so than other machine learning methods), prone to overfitting (performing well on the training data but poorly on new data).\n",
       "    *   **Examples:** Image recognition in smartphones, speech recognition in virtual assistants (like Siri or Alexa), machine translation, generating realistic images and text.\n",
       "\n",
       "**The AI Development Process (Simplified)**\n",
       "\n",
       "Regardless of the specific approach, the general process for developing an AI system usually involves these steps:\n",
       "\n",
       "1.  **Define the Problem:**  Clearly identify the task you want the AI to perform. What are the inputs? What are the desired outputs?  What are the performance metrics?\n",
       "\n",
       "2.  **Gather Data:** Collect a relevant dataset. The quality and quantity of data are crucial for machine learning and deep learning models.\n",
       "\n",
       "3.  **Prepare Data:** Clean and preprocess the data. This may involve handling missing values, removing noise, and transforming the data into a suitable format for the algorithm.\n",
       "\n",
       "4.  **Choose a Model/Algorithm:** Select the appropriate AI approach (rule-based, machine learning, deep learning) and a specific algorithm based on the problem, the data, and the desired performance.\n",
       "\n",
       "5.  **Train the Model:** Train the algorithm on the training data.  This involves adjusting the model's parameters to minimize the error between its predictions and the actual values.\n",
       "\n",
       "6.  **Evaluate the Model:** Assess the performance of the trained model on a separate test dataset.  This helps to ensure that the model generalizes well to new data.\n",
       "\n",
       "7.  **Deploy the Model:** Integrate the trained model into a real-world application.\n",
       "\n",
       "8.  **Monitor and Retrain:** Continuously monitor the model's performance and retrain it as needed to maintain accuracy and adapt to changing data.\n",
       "\n",
       "**Important Considerations**\n",
       "\n",
       "*   **Bias:** AI systems can inherit biases present in the training data, leading to unfair or discriminatory outcomes. It's essential to carefully consider the data and address potential biases.\n",
       "*   **Explainability:** Understanding why an AI system makes a particular decision can be challenging, especially with complex models like deep neural networks.  Explainable AI (XAI) is an active area of research.\n",
       "*   **Ethics:** AI raises significant ethical concerns, such as job displacement, privacy, and the potential for misuse.  It's important to develop and use AI responsibly.\n",
       "*   **Computational Resources:** Training and deploying AI models, particularly deep learning models, often requires significant computational resources, including powerful hardware and cloud computing services.\n",
       "\n",
       "**In Summary**\n",
       "\n",
       "AI is a broad field with many different approaches.  Machine learning, particularly deep learning, has driven many of the recent advances. AI systems learn from data, make predictions, and solve problems.  The development process involves defining the problem, gathering data, training a model, evaluating its performance, and deploying it.  It is important to consider the ethical implications and potential biases in AI systems.\n",
       "\n",
       "I hope this explanation is helpful! Let me know if you have any other questions.\n"
      ],
      "text/plain": [
       "<IPython.core.display.Markdown object>"
      ]
     },
     "metadata": {},
     "output_type": "display_data"
    }
   ],
   "source": [
    "response = client.chat.completions.create(\n",
    "    model=\"gemini-2.0-flash\",\n",
    "    messages=[\n",
    "        {\"role\": \"system\", \"content\": \"You are a helpful assistant.\"},\n",
    "        {\n",
    "            \"role\": \"user\",\n",
    "            \"content\": \"Explain to me how AI works\"\n",
    "        }\n",
    "    ]\n",
    ")\n",
    "\n",
    "md_display(response.choices[0].message.content)"
   ]
  }
 ],
 "metadata": {
  "kernelspec": {
   "display_name": "llm-playground",
   "language": "python",
   "name": "python3"
  },
  "language_info": {
   "codemirror_mode": {
    "name": "ipython",
    "version": 3
   },
   "file_extension": ".py",
   "mimetype": "text/x-python",
   "name": "python",
   "nbconvert_exporter": "python",
   "pygments_lexer": "ipython3",
   "version": "3.12.2"
  }
 },
 "nbformat": 4,
 "nbformat_minor": 5
}
