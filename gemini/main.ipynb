{
 "cells": [
  {
   "cell_type": "code",
   "execution_count": 15,
   "id": "dca7e1d8",
   "metadata": {},
   "outputs": [],
   "source": [
    "from dotenv import load_dotenv\n",
    "load_dotenv()\n",
    "\n",
    "import os\n",
    "from openai import OpenAI\n",
    "\n",
    "client = OpenAI(\n",
    "    api_key=os.getenv('GOOGLE_API_KEY'),\n",
    "    base_url=\"https://generativelanguage.googleapis.com/v1beta/openai/\",\n",
    ")\n",
    "model=\"gemini-2.0-flash\"\n",
    "# model=\"gemini-2.5-flash\""
   ]
  },
  {
   "cell_type": "code",
   "execution_count": 16,
   "id": "3600df69",
   "metadata": {},
   "outputs": [],
   "source": [
    "from IPython.display import display, Markdown\n",
    "md_display = lambda x: display(Markdown(x))"
   ]
  },
  {
   "cell_type": "code",
   "execution_count": 17,
   "id": "96be0bf9",
   "metadata": {},
   "outputs": [
    {
     "data": {
      "text/markdown": [
       "Okay, let's break down how AI works, focusing on the core concepts without getting too bogged down in technical jargon.  At its heart, AI is about creating computer systems that can perform tasks that typically require human intelligence.\n",
       "\n",
       "Here's a simplified explanation:\n",
       "\n",
       "**1. The Core Idea: Learning from Data**\n",
       "\n",
       "*   **Traditional Programming:**  You give a computer *explicit instructions* on exactly what to do in every situation.  Think of a calculator: you tell it what numbers to add, subtract, etc.\n",
       "*   **AI/Machine Learning:** Instead of explicit instructions, you give the computer *data* and let it *learn* the patterns and relationships within that data.  Think of teaching a child to recognize cats. You show them many pictures of cats, and eventually, they learn to identify a cat even if they've never seen that specific cat before.  AI aims to do the same thing, but often with much larger and more complex datasets.\n",
       "\n",
       "**2. Key Components & Concepts:**\n",
       "\n",
       "*   **Data:** This is the fuel for AI. It can be anything: images, text, numbers, audio, video, etc. The more relevant and high-quality data you have, the better the AI model will learn.\n",
       "*   **Algorithms:** These are the sets of rules or instructions that the AI uses to learn from the data.  There are many different types of AI algorithms, each suited for different types of tasks. Think of them as different recipes for learning.\n",
       "*   **Models:** The \"model\" is the result of the learning process. It's a representation of the patterns and relationships the AI has found in the data. Once trained, the model can be used to make predictions or decisions on new, unseen data.\n",
       "*   **Training:** This is the process of feeding the AI algorithm the data and letting it learn. The algorithm adjusts its internal parameters (think of knobs and dials) to improve its ability to make accurate predictions.\n",
       "*   **Inference:**  This is the process of using the trained model to make predictions or decisions on new data.  For example, if you've trained a model to recognize cats, inference is when you show it a new picture and it tells you whether or not it contains a cat.\n",
       "\n",
       "**3.  Types of AI (a Simplified View):**\n",
       "\n",
       "*   **Machine Learning (ML):** This is the most common type of AI right now.  It focuses on training algorithms to learn from data without being explicitly programmed.  Examples include:\n",
       "    *   **Supervised Learning:** You provide the algorithm with labeled data (e.g., pictures of cats labeled \"cat\" and pictures of dogs labeled \"dog\"). The algorithm learns to map the input (picture) to the correct output (label).\n",
       "    *   **Unsupervised Learning:** You provide the algorithm with unlabeled data and ask it to find patterns or structures within the data (e.g., grouping customers into different segments based on their purchasing behavior).\n",
       "    *   **Reinforcement Learning:** The algorithm learns by trial and error, receiving rewards or penalties for its actions. Think of training a dog with treats. This is often used in robotics and game playing.\n",
       "*   **Deep Learning (DL):** This is a subfield of machine learning that uses artificial neural networks with multiple layers (hence \"deep\").  These networks are inspired by the structure of the human brain and are very powerful for complex tasks like image recognition, natural language processing, and speech recognition.\n",
       "*   **Natural Language Processing (NLP):** This focuses on enabling computers to understand, interpret, and generate human language.  Examples include:\n",
       "    *   Chatbots\n",
       "    *   Language translation\n",
       "    *   Sentiment analysis (determining the emotional tone of a text)\n",
       "*   **Computer Vision:** This focuses on enabling computers to \"see\" and interpret images and videos.  Examples include:\n",
       "    *   Object detection (identifying objects in an image)\n",
       "    *   Facial recognition\n",
       "    *   Image classification (categorizing images)\n",
       "*   **Robotics:** This involves designing, building, and operating robots.  AI is often used to control robots and enable them to perform tasks autonomously.\n",
       "\n",
       "**4. A Simple Example: Spam Detection**\n",
       "\n",
       "Let's say you want to build an AI system to detect spam emails.\n",
       "\n",
       "1.  **Data:** You gather a large dataset of emails, labeling each one as either \"spam\" or \"not spam\" (also called \"ham\").\n",
       "2.  **Algorithm:** You choose a machine learning algorithm suitable for classification (e.g., a Naive Bayes classifier or a Support Vector Machine).\n",
       "3.  **Training:** You feed the labeled email data into the algorithm. The algorithm learns to identify patterns and features that are common in spam emails (e.g., certain keywords, unusual punctuation, suspicious links).\n",
       "4.  **Model:** The trained model is a set of rules or probabilities that can be used to classify new, unseen emails.\n",
       "5.  **Inference:** When a new email arrives, the model analyzes its content and predicts whether it's spam or not spam.\n",
       "\n",
       "**5. Key Takeaways:**\n",
       "\n",
       "*   AI learns from data, rather than being explicitly programmed for every situation.\n",
       "*   Different AI techniques are suited for different tasks.\n",
       "*   The quality and quantity of data are crucial for AI performance.\n",
       "*   AI models are constantly being improved and refined.\n",
       "*   AI is not magic; it's based on mathematical and computational principles.\n",
       "\n",
       "**Important Considerations:**\n",
       "\n",
       "*   **Bias:** AI models can inherit biases present in the data they are trained on. This can lead to unfair or discriminatory outcomes.\n",
       "*   **Explainability:**  Some AI models (especially deep learning models) are difficult to understand and explain.  This can be a problem when you need to know why a model made a particular decision.\n",
       "*   **Ethics:** The use of AI raises important ethical questions about privacy, security, and job displacement.\n",
       "\n",
       "I hope this explanation is helpful! Let me know if you have any more questions. I can delve into specific areas in more detail if you'd like. For example, we could talk about a specific type of algorithm, a specific application of AI, or the ethical considerations.\n"
      ],
      "text/plain": [
       "<IPython.core.display.Markdown object>"
      ]
     },
     "metadata": {},
     "output_type": "display_data"
    }
   ],
   "source": [
    "response = client.chat.completions.create(\n",
    "    model=model,\n",
    "    messages=[\n",
    "        {\"role\": \"system\", \"content\": \"You are a helpful assistant.\"},\n",
    "        {\n",
    "            \"role\": \"user\",\n",
    "            \"content\": \"Explain to me how AI works\"\n",
    "        }\n",
    "    ]\n",
    ")\n",
    "\n",
    "md_display(response.choices[0].message.content)"
   ]
  }
 ],
 "metadata": {
  "kernelspec": {
   "display_name": "llm-playground",
   "language": "python",
   "name": "python3"
  },
  "language_info": {
   "codemirror_mode": {
    "name": "ipython",
    "version": 3
   },
   "file_extension": ".py",
   "mimetype": "text/x-python",
   "name": "python",
   "nbconvert_exporter": "python",
   "pygments_lexer": "ipython3",
   "version": "3.13.5"
  }
 },
 "nbformat": 4,
 "nbformat_minor": 5
}
