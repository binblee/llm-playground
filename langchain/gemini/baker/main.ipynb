{
 "cells": [
  {
   "cell_type": "code",
   "execution_count": null,
   "id": "af469e0d",
   "metadata": {},
   "outputs": [],
   "source": [
    "from dotenv import load_dotenv\n",
    "load_dotenv()\n",
    "import os\n",
    "from PIL import Image"
   ]
  },
  {
   "cell_type": "code",
   "execution_count": null,
   "id": "bf1ab824",
   "metadata": {},
   "outputs": [],
   "source": [
    "google_api_key = os.getenv('GEMINI_API_KEY')\n",
    "if not google_api_key: \n",
    "    raise ValueError(\"GEMINI_API_KEY is not set in the environment variables.\")"
   ]
  },
  {
   "cell_type": "code",
   "execution_count": null,
   "id": "6deef374",
   "metadata": {},
   "outputs": [],
   "source": [
    "prompt = \"Provide an example recipe for the baked goods in the image. \""
   ]
  },
  {
   "cell_type": "code",
   "execution_count": null,
   "id": "6c918c92",
   "metadata": {},
   "outputs": [],
   "source": [
    "img = Image.open('baked_goods_1.jpg')\n",
    "# img = Image.open('baked_goods_2.jpg')\n",
    "# img = Image.open('baked_goods_3.jpg')\n",
    "img"
   ]
  },
  {
   "cell_type": "code",
   "execution_count": null,
   "id": "a4c501f5",
   "metadata": {},
   "outputs": [],
   "source": [
    "from langchain_core.messages import HumanMessage\n",
    "from langchain_google_genai import ChatGoogleGenerativeAI\n",
    "from IPython.display import Markdown, clear_output, display\n",
    "import base64, io"
   ]
  },
  {
   "cell_type": "code",
   "execution_count": null,
   "id": "772b342b",
   "metadata": {},
   "outputs": [],
   "source": [
    "def image_url(img):\n",
    "    buffered = io.BytesIO()\n",
    "    img.save(buffered, format=\"JPEG\")\n",
    "    img_str = base64.b64encode(buffered.getvalue()).decode('utf-8')\n",
    "    return f\"data:image/jpeg;base64,{img_str}\"\n",
    "\n",
    "model = ChatGoogleGenerativeAI(model=\"gemini-2.0-flash\")\n",
    "message = HumanMessage(content=[\n",
    "    {'type': 'text', 'text': prompt},\n",
    "    {'type': 'image_url', 'image_url': image_url(img)},\n",
    "])\n",
    "response = model.stream([message])\n",
    "buffer = []\n",
    "for chunk in response:\n",
    "    buffer.append(chunk.content)\n",
    "    clear_output()\n",
    "    display(Markdown(''.join(buffer)))"
   ]
  }
 ],
 "metadata": {
  "kernelspec": {
   "display_name": "llm-playground",
   "language": "python",
   "name": "python3"
  },
  "language_info": {
   "codemirror_mode": {
    "name": "ipython",
    "version": 3
   },
   "file_extension": ".py",
   "mimetype": "text/x-python",
   "name": "python",
   "nbconvert_exporter": "python",
   "pygments_lexer": "ipython3",
   "version": "3.12.2"
  }
 },
 "nbformat": 4,
 "nbformat_minor": 5
}
