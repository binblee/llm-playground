{
 "cells": [
  {
   "cell_type": "code",
   "execution_count": 3,
   "id": "64c32932",
   "metadata": {},
   "outputs": [],
   "source": [
    "from dotenv import load_dotenv\n",
    "load_dotenv()\n",
    "import os\n",
    "google_api_key = os.getenv('GOOGLE_API_KEY')\n",
    "if not google_api_key: \n",
    "    raise ValueError(\"GOOGLE_API_KEY is not set in the environment variables.\")\n"
   ]
  },
  {
   "cell_type": "code",
   "execution_count": 4,
   "id": "dcbe9f8e",
   "metadata": {},
   "outputs": [],
   "source": [
    "from langchain.chat_models import init_chat_model\n",
    "\n",
    "llm = init_chat_model(\"gemini-2.0-flash\", model_provider=\"google_genai\")"
   ]
  },
  {
   "cell_type": "code",
   "execution_count": 6,
   "id": "a52428a2",
   "metadata": {},
   "outputs": [],
   "source": [
    "from langchain_core.prompts import ChatPromptTemplate\n",
    "from langchain_openai import ChatOpenAI\n",
    "from pydantic import BaseModel, Field\n",
    "\n",
    "tagging_prompt = ChatPromptTemplate.from_template(\"\"\"\n",
    "Extract the desired information from the following passage.\n",
    "Only extract the properties mentioned in the 'Classification' function.\n",
    "\n",
    "Passage: {input}\n",
    "\"\"\"\n",
    ")\n",
    "\n",
    "class Classification(BaseModel):\n",
    "    sentiment: str = Field(description=\"The sentiment of the text\")\n",
    "    aggressiveness: str = Field(description=\"How aggressive the text is on a scale from 1 to 10 \")\n",
    "    language: str = Field(description=\"The language the text is written in\")\n",
    "\n",
    "structured_llm = llm.with_structured_output(Classification)"
   ]
  },
  {
   "cell_type": "code",
   "execution_count": 7,
   "id": "049aca4e",
   "metadata": {},
   "outputs": [
    {
     "data": {
      "text/plain": [
       "RunnableBinding(bound=ChatGoogleGenerativeAI(model='models/gemini-2.0-flash', google_api_key=SecretStr('**********'), client=<google.ai.generativelanguage_v1beta.services.generative_service.client.GenerativeServiceClient object at 0x122e80f50>, default_metadata=(), model_kwargs={}), kwargs={'tools': [{'type': 'function', 'function': {'name': 'Classification', 'description': '', 'parameters': {'properties': {'sentiment': {'description': 'The sentiment of the text', 'type': 'string'}, 'aggressiveness': {'description': 'How aggressive the text is on a scale from 1 to 10 ', 'type': 'string'}, 'language': {'description': 'The language the text is written in', 'type': 'string'}}, 'required': ['sentiment', 'aggressiveness', 'language'], 'type': 'object'}}}], 'ls_structured_output_format': {'kwargs': {'method': 'function_calling'}, 'schema': {'type': 'function', 'function': {'name': 'Classification', 'description': '', 'parameters': {'properties': {'sentiment': {'description': 'The sentiment of the text', 'type': 'string'}, 'aggressiveness': {'description': 'How aggressive the text is on a scale from 1 to 10 ', 'type': 'string'}, 'language': {'description': 'The language the text is written in', 'type': 'string'}}, 'required': ['sentiment', 'aggressiveness', 'language'], 'type': 'object'}}}}, 'tool_choice': 'Classification'}, config={}, config_factories=[])\n",
       "| PydanticToolsParser(first_tool_only=True, tools=[<class '__main__.Classification'>])"
      ]
     },
     "execution_count": 7,
     "metadata": {},
     "output_type": "execute_result"
    }
   ],
   "source": [
    "structured_llm"
   ]
  },
  {
   "cell_type": "code",
   "execution_count": 8,
   "id": "8a8283a5",
   "metadata": {},
   "outputs": [
    {
     "data": {
      "text/plain": [
       "Classification(sentiment='Positive', aggressiveness='1', language='Spanish')"
      ]
     },
     "execution_count": 8,
     "metadata": {},
     "output_type": "execute_result"
    }
   ],
   "source": [
    "inp = \"Estoy increiblemente contento de haberte conocido! Creo que seremos muy buenos amigos!\"\n",
    "prompt = tagging_prompt.invoke({\"input\": inp})\n",
    "response = structured_llm.invoke(prompt)\n",
    "\n",
    "response"
   ]
  },
  {
   "cell_type": "code",
   "execution_count": 9,
   "id": "7607a12e",
   "metadata": {},
   "outputs": [
    {
     "data": {
      "text/plain": [
       "{'sentiment': 'Negative', 'aggressiveness': '10', 'language': 'Spanish'}"
      ]
     },
     "execution_count": 9,
     "metadata": {},
     "output_type": "execute_result"
    }
   ],
   "source": [
    "inp = \"Estoy muy enojado con vos! Te voy a dar tu merecido!\"\n",
    "prompt = tagging_prompt.invoke({\"input\": inp})\n",
    "response = structured_llm.invoke(prompt)\n",
    "response.model_dump()"
   ]
  },
  {
   "cell_type": "code",
   "execution_count": null,
   "id": "09250441",
   "metadata": {},
   "outputs": [
    {
     "ename": "TypeError",
     "evalue": "bad argument type for built-in operation",
     "output_type": "error",
     "traceback": [
      "\u001b[31m---------------------------------------------------------------------------\u001b[39m",
      "\u001b[31mTypeError\u001b[39m                                 Traceback (most recent call last)",
      "\u001b[36mFile \u001b[39m\u001b[32m~/.virtualenvs/llm-playground/lib/python3.13/site-packages/proto/marshal/rules/message.py:36\u001b[39m, in \u001b[36mMessageRule.to_proto\u001b[39m\u001b[34m(self, value)\u001b[39m\n\u001b[32m     34\u001b[39m \u001b[38;5;28;01mtry\u001b[39;00m:\n\u001b[32m     35\u001b[39m     \u001b[38;5;66;03m# Try the fast path first.\u001b[39;00m\n\u001b[32m---> \u001b[39m\u001b[32m36\u001b[39m     \u001b[38;5;28;01mreturn\u001b[39;00m \u001b[38;5;28;43mself\u001b[39;49m\u001b[43m.\u001b[49m\u001b[43m_descriptor\u001b[49m\u001b[43m(\u001b[49m\u001b[43m*\u001b[49m\u001b[43m*\u001b[49m\u001b[43mvalue\u001b[49m\u001b[43m)\u001b[49m\n\u001b[32m     37\u001b[39m \u001b[38;5;28;01mexcept\u001b[39;00m (\u001b[38;5;167;01mTypeError\u001b[39;00m, \u001b[38;5;167;01mValueError\u001b[39;00m, \u001b[38;5;167;01mAttributeError\u001b[39;00m) \u001b[38;5;28;01mas\u001b[39;00m ex:\n\u001b[32m     38\u001b[39m     \u001b[38;5;66;03m# If we have a TypeError, ValueError or AttributeError,\u001b[39;00m\n\u001b[32m     39\u001b[39m     \u001b[38;5;66;03m# try the slow path in case the error\u001b[39;00m\n\u001b[32m   (...)\u001b[39m\u001b[32m     44\u001b[39m     \u001b[38;5;66;03m# - a missing key issue due to nested struct. See: https://github.com/googleapis/proto-plus-python/issues/424.\u001b[39;00m\n\u001b[32m     45\u001b[39m     \u001b[38;5;66;03m# - a missing key issue due to nested duration. See: https://github.com/googleapis/google-cloud-python/issues/13350.\u001b[39;00m\n",
      "\u001b[31mTypeError\u001b[39m: bad argument type for built-in operation",
      "\nDuring handling of the above exception, another exception occurred:\n",
      "\u001b[31mTypeError\u001b[39m                                 Traceback (most recent call last)",
      "\u001b[36mFile \u001b[39m\u001b[32m~/.virtualenvs/llm-playground/lib/python3.13/site-packages/proto/marshal/rules/message.py:36\u001b[39m, in \u001b[36mMessageRule.to_proto\u001b[39m\u001b[34m(self, value)\u001b[39m\n\u001b[32m     34\u001b[39m \u001b[38;5;28;01mtry\u001b[39;00m:\n\u001b[32m     35\u001b[39m     \u001b[38;5;66;03m# Try the fast path first.\u001b[39;00m\n\u001b[32m---> \u001b[39m\u001b[32m36\u001b[39m     \u001b[38;5;28;01mreturn\u001b[39;00m \u001b[38;5;28;43mself\u001b[39;49m\u001b[43m.\u001b[49m\u001b[43m_descriptor\u001b[49m\u001b[43m(\u001b[49m\u001b[43m*\u001b[49m\u001b[43m*\u001b[49m\u001b[43mvalue\u001b[49m\u001b[43m)\u001b[49m\n\u001b[32m     37\u001b[39m \u001b[38;5;28;01mexcept\u001b[39;00m (\u001b[38;5;167;01mTypeError\u001b[39;00m, \u001b[38;5;167;01mValueError\u001b[39;00m, \u001b[38;5;167;01mAttributeError\u001b[39;00m) \u001b[38;5;28;01mas\u001b[39;00m ex:\n\u001b[32m     38\u001b[39m     \u001b[38;5;66;03m# If we have a TypeError, ValueError or AttributeError,\u001b[39;00m\n\u001b[32m     39\u001b[39m     \u001b[38;5;66;03m# try the slow path in case the error\u001b[39;00m\n\u001b[32m   (...)\u001b[39m\u001b[32m     44\u001b[39m     \u001b[38;5;66;03m# - a missing key issue due to nested struct. See: https://github.com/googleapis/proto-plus-python/issues/424.\u001b[39;00m\n\u001b[32m     45\u001b[39m     \u001b[38;5;66;03m# - a missing key issue due to nested duration. See: https://github.com/googleapis/google-cloud-python/issues/13350.\u001b[39;00m\n",
      "\u001b[31mTypeError\u001b[39m: bad argument type for built-in operation",
      "\nDuring handling of the above exception, another exception occurred:\n",
      "\u001b[31mTypeError\u001b[39m                                 Traceback (most recent call last)",
      "\u001b[36mCell\u001b[39m\u001b[36m \u001b[39m\u001b[32mIn[19]\u001b[39m\u001b[32m, line 26\u001b[39m\n\u001b[32m     21\u001b[39m llm2 = init_chat_model(\u001b[33m\"\u001b[39m\u001b[33mgemini-2.0-flash\u001b[39m\u001b[33m\"\u001b[39m, model_provider=\u001b[33m\"\u001b[39m\u001b[33mgoogle_genai\u001b[39m\u001b[33m\"\u001b[39m)\n\u001b[32m     22\u001b[39m \u001b[38;5;66;03m# structured_llm2 = llm2.with_structured_output(Classification)\u001b[39;00m\n\u001b[32m     23\u001b[39m \u001b[38;5;66;03m# llm = ChatOpenAI(temperature=0, model=\"gpt-4o-mini\").with_structured_output(\u001b[39;00m\n\u001b[32m     24\u001b[39m \u001b[38;5;66;03m#     Classification\u001b[39;00m\n\u001b[32m     25\u001b[39m \u001b[38;5;66;03m# )\u001b[39;00m\n\u001b[32m---> \u001b[39m\u001b[32m26\u001b[39m structured_llm2 = \u001b[43mllm2\u001b[49m\u001b[43m.\u001b[49m\u001b[43mwith_structured_output\u001b[49m\u001b[43m(\u001b[49m\u001b[43mClassification\u001b[49m\u001b[43m)\u001b[49m\n",
      "\u001b[36mFile \u001b[39m\u001b[32m~/.virtualenvs/llm-playground/lib/python3.13/site-packages/langchain_google_genai/chat_models.py:1656\u001b[39m, in \u001b[36mChatGoogleGenerativeAI.with_structured_output\u001b[39m\u001b[34m(self, schema, include_raw, **kwargs)\u001b[39m\n\u001b[32m   1654\u001b[39m \u001b[38;5;28;01mif\u001b[39;00m kwargs:\n\u001b[32m   1655\u001b[39m     \u001b[38;5;28;01mraise\u001b[39;00m \u001b[38;5;167;01mValueError\u001b[39;00m(\u001b[33mf\u001b[39m\u001b[33m\"\u001b[39m\u001b[33mReceived unsupported arguments \u001b[39m\u001b[38;5;132;01m{\u001b[39;00mkwargs\u001b[38;5;132;01m}\u001b[39;00m\u001b[33m\"\u001b[39m)\n\u001b[32m-> \u001b[39m\u001b[32m1656\u001b[39m tool_name = \u001b[43m_get_tool_name\u001b[49m\u001b[43m(\u001b[49m\u001b[43mschema\u001b[49m\u001b[43m)\u001b[49m  \u001b[38;5;66;03m# type: ignore[arg-type]\u001b[39;00m\n\u001b[32m   1657\u001b[39m \u001b[38;5;28;01mif\u001b[39;00m \u001b[38;5;28misinstance\u001b[39m(schema, \u001b[38;5;28mtype\u001b[39m) \u001b[38;5;129;01mand\u001b[39;00m is_basemodel_subclass_safe(schema):\n\u001b[32m   1658\u001b[39m     parser: OutputParserLike = PydanticToolsParser(\n\u001b[32m   1659\u001b[39m         tools=[schema], first_tool_only=\u001b[38;5;28;01mTrue\u001b[39;00m\n\u001b[32m   1660\u001b[39m     )\n",
      "\u001b[36mFile \u001b[39m\u001b[32m~/.virtualenvs/llm-playground/lib/python3.13/site-packages/langchain_google_genai/chat_models.py:1740\u001b[39m, in \u001b[36m_get_tool_name\u001b[39m\u001b[34m(tool)\u001b[39m\n\u001b[32m   1736\u001b[39m \u001b[38;5;28;01mdef\u001b[39;00m\u001b[38;5;250m \u001b[39m\u001b[34m_get_tool_name\u001b[39m(\n\u001b[32m   1737\u001b[39m     tool: Union[_ToolDict, GoogleTool, Dict],\n\u001b[32m   1738\u001b[39m ) -> \u001b[38;5;28mstr\u001b[39m:\n\u001b[32m   1739\u001b[39m     \u001b[38;5;28;01mtry\u001b[39;00m:\n\u001b[32m-> \u001b[39m\u001b[32m1740\u001b[39m         genai_tool = tool_to_dict(\u001b[43mconvert_to_genai_function_declarations\u001b[49m\u001b[43m(\u001b[49m\u001b[43m[\u001b[49m\u001b[43mtool\u001b[49m\u001b[43m]\u001b[49m\u001b[43m)\u001b[49m)\n\u001b[32m   1741\u001b[39m         \u001b[38;5;28;01mreturn\u001b[39;00m [f[\u001b[33m\"\u001b[39m\u001b[33mname\u001b[39m\u001b[33m\"\u001b[39m] \u001b[38;5;28;01mfor\u001b[39;00m f \u001b[38;5;129;01min\u001b[39;00m genai_tool[\u001b[33m\"\u001b[39m\u001b[33mfunction_declarations\u001b[39m\u001b[33m\"\u001b[39m]][\u001b[32m0\u001b[39m]  \u001b[38;5;66;03m# type: ignore[index]\u001b[39;00m\n\u001b[32m   1742\u001b[39m     \u001b[38;5;28;01mexcept\u001b[39;00m \u001b[38;5;167;01mValueError\u001b[39;00m \u001b[38;5;28;01mas\u001b[39;00m e:  \u001b[38;5;66;03m# other TypedDict\u001b[39;00m\n",
      "\u001b[36mFile \u001b[39m\u001b[32m~/.virtualenvs/llm-playground/lib/python3.13/site-packages/langchain_google_genai/_function_utils.py:188\u001b[39m, in \u001b[36mconvert_to_genai_function_declarations\u001b[39m\u001b[34m(tools)\u001b[39m\n\u001b[32m    184\u001b[39m             gapic_tool.google_search_retrieval = gapic.GoogleSearchRetrieval(\n\u001b[32m    185\u001b[39m                 tool[\u001b[33m\"\u001b[39m\u001b[33mgoogle_search_retrieval\u001b[39m\u001b[33m\"\u001b[39m]\n\u001b[32m    186\u001b[39m             )\n\u001b[32m    187\u001b[39m     \u001b[38;5;28;01melse\u001b[39;00m:\n\u001b[32m--> \u001b[39m\u001b[32m188\u001b[39m         fd = \u001b[43m_format_to_gapic_function_declaration\u001b[49m\u001b[43m(\u001b[49m\u001b[43mtool\u001b[49m\u001b[43m)\u001b[49m  \u001b[38;5;66;03m# type: ignore[arg-type]\u001b[39;00m\n\u001b[32m    189\u001b[39m         gapic_tool.function_declarations.append(fd)\n\u001b[32m    190\u001b[39m \u001b[38;5;28;01mreturn\u001b[39;00m gapic_tool\n",
      "\u001b[36mFile \u001b[39m\u001b[32m~/.virtualenvs/llm-playground/lib/python3.13/site-packages/langchain_google_genai/_function_utils.py:212\u001b[39m, in \u001b[36m_format_to_gapic_function_declaration\u001b[39m\u001b[34m(tool)\u001b[39m\n\u001b[32m    210\u001b[39m     \u001b[38;5;28;01mreturn\u001b[39;00m _format_base_tool_to_function_declaration(tool)\n\u001b[32m    211\u001b[39m \u001b[38;5;28;01melif\u001b[39;00m \u001b[38;5;28misinstance\u001b[39m(tool, \u001b[38;5;28mtype\u001b[39m) \u001b[38;5;129;01mand\u001b[39;00m is_basemodel_subclass_safe(tool):\n\u001b[32m--> \u001b[39m\u001b[32m212\u001b[39m     \u001b[38;5;28;01mreturn\u001b[39;00m \u001b[43m_convert_pydantic_to_genai_function\u001b[49m\u001b[43m(\u001b[49m\u001b[43mtool\u001b[49m\u001b[43m)\u001b[49m\n\u001b[32m    213\u001b[39m \u001b[38;5;28;01melif\u001b[39;00m \u001b[38;5;28misinstance\u001b[39m(tool, \u001b[38;5;28mdict\u001b[39m):\n\u001b[32m    214\u001b[39m     \u001b[38;5;28;01mif\u001b[39;00m \u001b[38;5;28mall\u001b[39m(k \u001b[38;5;129;01min\u001b[39;00m tool \u001b[38;5;28;01mfor\u001b[39;00m k \u001b[38;5;129;01min\u001b[39;00m (\u001b[33m\"\u001b[39m\u001b[33mtype\u001b[39m\u001b[33m\"\u001b[39m, \u001b[33m\"\u001b[39m\u001b[33mfunction\u001b[39m\u001b[33m\"\u001b[39m)) \u001b[38;5;129;01mand\u001b[39;00m tool[\u001b[33m\"\u001b[39m\u001b[33mtype\u001b[39m\u001b[33m\"\u001b[39m] == \u001b[33m\"\u001b[39m\u001b[33mfunction\u001b[39m\u001b[33m\"\u001b[39m:\n",
      "\u001b[36mFile \u001b[39m\u001b[32m~/.virtualenvs/llm-playground/lib/python3.13/site-packages/langchain_google_genai/_function_utils.py:288\u001b[39m, in \u001b[36m_convert_pydantic_to_genai_function\u001b[39m\u001b[34m(pydantic_model, tool_name, tool_description)\u001b[39m\n\u001b[32m    286\u001b[39m schema = dereference_refs(schema)\n\u001b[32m    287\u001b[39m schema.pop(\u001b[33m\"\u001b[39m\u001b[33mdefinitions\u001b[39m\u001b[33m\"\u001b[39m, \u001b[38;5;28;01mNone\u001b[39;00m)\n\u001b[32m--> \u001b[39m\u001b[32m288\u001b[39m function_declaration = \u001b[43mgapic\u001b[49m\u001b[43m.\u001b[49m\u001b[43mFunctionDeclaration\u001b[49m\u001b[43m(\u001b[49m\n\u001b[32m    289\u001b[39m \u001b[43m    \u001b[49m\u001b[43mname\u001b[49m\u001b[43m=\u001b[49m\u001b[43mtool_name\u001b[49m\u001b[43m \u001b[49m\u001b[38;5;28;43;01mif\u001b[39;49;00m\u001b[43m \u001b[49m\u001b[43mtool_name\u001b[49m\u001b[43m \u001b[49m\u001b[38;5;28;43;01melse\u001b[39;49;00m\u001b[43m \u001b[49m\u001b[43mschema\u001b[49m\u001b[43m.\u001b[49m\u001b[43mget\u001b[49m\u001b[43m(\u001b[49m\u001b[33;43m\"\u001b[39;49m\u001b[33;43mtitle\u001b[39;49m\u001b[33;43m\"\u001b[39;49m\u001b[43m)\u001b[49m\u001b[43m,\u001b[49m\n\u001b[32m    290\u001b[39m \u001b[43m    \u001b[49m\u001b[43mdescription\u001b[49m\u001b[43m=\u001b[49m\u001b[43mtool_description\u001b[49m\u001b[43m \u001b[49m\u001b[38;5;28;43;01mif\u001b[39;49;00m\u001b[43m \u001b[49m\u001b[43mtool_description\u001b[49m\u001b[43m \u001b[49m\u001b[38;5;28;43;01melse\u001b[39;49;00m\u001b[43m \u001b[49m\u001b[43mschema\u001b[49m\u001b[43m.\u001b[49m\u001b[43mget\u001b[49m\u001b[43m(\u001b[49m\u001b[33;43m\"\u001b[39;49m\u001b[33;43mdescription\u001b[39;49m\u001b[33;43m\"\u001b[39;49m\u001b[43m)\u001b[49m\u001b[43m,\u001b[49m\n\u001b[32m    291\u001b[39m \u001b[43m    \u001b[49m\u001b[43mparameters\u001b[49m\u001b[43m=\u001b[49m\u001b[43m{\u001b[49m\n\u001b[32m    292\u001b[39m \u001b[43m        \u001b[49m\u001b[33;43m\"\u001b[39;49m\u001b[33;43mproperties\u001b[39;49m\u001b[33;43m\"\u001b[39;49m\u001b[43m:\u001b[49m\u001b[43m \u001b[49m\u001b[43m_get_properties_from_schema_any\u001b[49m\u001b[43m(\u001b[49m\n\u001b[32m    293\u001b[39m \u001b[43m            \u001b[49m\u001b[43mschema\u001b[49m\u001b[43m.\u001b[49m\u001b[43mget\u001b[49m\u001b[43m(\u001b[49m\u001b[33;43m\"\u001b[39;49m\u001b[33;43mproperties\u001b[39;49m\u001b[33;43m\"\u001b[39;49m\u001b[43m)\u001b[49m\n\u001b[32m    294\u001b[39m \u001b[43m        \u001b[49m\u001b[43m)\u001b[49m\u001b[43m,\u001b[49m\u001b[43m  \u001b[49m\u001b[38;5;66;43;03m# TODO: use _dict_to_gapic_schema() if possible\u001b[39;49;00m\n\u001b[32m    295\u001b[39m \u001b[43m        \u001b[49m\u001b[38;5;66;43;03m# \"items\": _get_items_from_schema_any(\u001b[39;49;00m\n\u001b[32m    296\u001b[39m \u001b[43m        \u001b[49m\u001b[38;5;66;43;03m#     schema\u001b[39;49;00m\n\u001b[32m    297\u001b[39m \u001b[43m        \u001b[49m\u001b[38;5;66;43;03m# ),  # TODO: fix it https://cloud.google.com/vertex-ai/generative-ai/docs/model-reference/function-calling?hl#schema\u001b[39;49;00m\n\u001b[32m    298\u001b[39m \u001b[43m        \u001b[49m\u001b[33;43m\"\u001b[39;49m\u001b[33;43mrequired\u001b[39;49m\u001b[33;43m\"\u001b[39;49m\u001b[43m:\u001b[49m\u001b[43m \u001b[49m\u001b[43mschema\u001b[49m\u001b[43m.\u001b[49m\u001b[43mget\u001b[49m\u001b[43m(\u001b[49m\u001b[33;43m\"\u001b[39;49m\u001b[33;43mrequired\u001b[39;49m\u001b[33;43m\"\u001b[39;49m\u001b[43m,\u001b[49m\u001b[43m \u001b[49m\u001b[43m[\u001b[49m\u001b[43m]\u001b[49m\u001b[43m)\u001b[49m\u001b[43m,\u001b[49m\n\u001b[32m    299\u001b[39m \u001b[43m        \u001b[49m\u001b[33;43m\"\u001b[39;49m\u001b[33;43mtype_\u001b[39;49m\u001b[33;43m\"\u001b[39;49m\u001b[43m:\u001b[49m\u001b[43m \u001b[49m\u001b[43mTYPE_ENUM\u001b[49m\u001b[43m[\u001b[49m\u001b[43mschema\u001b[49m\u001b[43m[\u001b[49m\u001b[33;43m\"\u001b[39;49m\u001b[33;43mtype\u001b[39;49m\u001b[33;43m\"\u001b[39;49m\u001b[43m]\u001b[49m\u001b[43m]\u001b[49m\u001b[43m,\u001b[49m\n\u001b[32m    300\u001b[39m \u001b[43m    \u001b[49m\u001b[43m}\u001b[49m\u001b[43m,\u001b[49m\n\u001b[32m    301\u001b[39m \u001b[43m\u001b[49m\u001b[43m)\u001b[49m\n\u001b[32m    302\u001b[39m \u001b[38;5;28;01mreturn\u001b[39;00m function_declaration\n",
      "\u001b[36mFile \u001b[39m\u001b[32m~/.virtualenvs/llm-playground/lib/python3.13/site-packages/proto/message.py:728\u001b[39m, in \u001b[36mMessage.__init__\u001b[39m\u001b[34m(self, mapping, ignore_unknown_fields, **kwargs)\u001b[39m\n\u001b[32m    722\u001b[39m         \u001b[38;5;28;01mcontinue\u001b[39;00m\n\u001b[32m    724\u001b[39m     \u001b[38;5;28;01mraise\u001b[39;00m \u001b[38;5;167;01mValueError\u001b[39;00m(\n\u001b[32m    725\u001b[39m         \u001b[33m\"\u001b[39m\u001b[33mUnknown field for \u001b[39m\u001b[38;5;132;01m{}\u001b[39;00m\u001b[33m: \u001b[39m\u001b[38;5;132;01m{}\u001b[39;00m\u001b[33m\"\u001b[39m.format(\u001b[38;5;28mself\u001b[39m.\u001b[34m__class__\u001b[39m.\u001b[34m__name__\u001b[39m, key)\n\u001b[32m    726\u001b[39m     )\n\u001b[32m--> \u001b[39m\u001b[32m728\u001b[39m pb_value = \u001b[43mmarshal\u001b[49m\u001b[43m.\u001b[49m\u001b[43mto_proto\u001b[49m\u001b[43m(\u001b[49m\u001b[43mpb_type\u001b[49m\u001b[43m,\u001b[49m\u001b[43m \u001b[49m\u001b[43mvalue\u001b[49m\u001b[43m)\u001b[49m\n\u001b[32m    730\u001b[39m \u001b[38;5;28;01mif\u001b[39;00m pb_value \u001b[38;5;129;01mis\u001b[39;00m \u001b[38;5;129;01mnot\u001b[39;00m \u001b[38;5;28;01mNone\u001b[39;00m:\n\u001b[32m    731\u001b[39m     params[key] = pb_value\n",
      "\u001b[36mFile \u001b[39m\u001b[32m~/.virtualenvs/llm-playground/lib/python3.13/site-packages/proto/marshal/marshal.py:235\u001b[39m, in \u001b[36mBaseMarshal.to_proto\u001b[39m\u001b[34m(self, proto_type, value, strict)\u001b[39m\n\u001b[32m    232\u001b[39m     recursive_type = \u001b[38;5;28mtype\u001b[39m(proto_type().value)\n\u001b[32m    233\u001b[39m     \u001b[38;5;28;01mreturn\u001b[39;00m {k: \u001b[38;5;28mself\u001b[39m.to_proto(recursive_type, v) \u001b[38;5;28;01mfor\u001b[39;00m k, v \u001b[38;5;129;01min\u001b[39;00m value.items()}\n\u001b[32m--> \u001b[39m\u001b[32m235\u001b[39m pb_value = \u001b[38;5;28;43mself\u001b[39;49m\u001b[43m.\u001b[49m\u001b[43mget_rule\u001b[49m\u001b[43m(\u001b[49m\u001b[43mproto_type\u001b[49m\u001b[43m=\u001b[49m\u001b[43mproto_type\u001b[49m\u001b[43m)\u001b[49m\u001b[43m.\u001b[49m\u001b[43mto_proto\u001b[49m\u001b[43m(\u001b[49m\u001b[43mvalue\u001b[49m\u001b[43m)\u001b[49m\n\u001b[32m    237\u001b[39m \u001b[38;5;66;03m# Sanity check: If we are in strict mode, did we get the value we want?\u001b[39;00m\n\u001b[32m    238\u001b[39m \u001b[38;5;28;01mif\u001b[39;00m strict \u001b[38;5;129;01mand\u001b[39;00m \u001b[38;5;129;01mnot\u001b[39;00m \u001b[38;5;28misinstance\u001b[39m(pb_value, proto_type):\n",
      "\u001b[36mFile \u001b[39m\u001b[32m~/.virtualenvs/llm-playground/lib/python3.13/site-packages/proto/marshal/rules/message.py:46\u001b[39m, in \u001b[36mMessageRule.to_proto\u001b[39m\u001b[34m(self, value)\u001b[39m\n\u001b[32m     36\u001b[39m         \u001b[38;5;28;01mreturn\u001b[39;00m \u001b[38;5;28mself\u001b[39m._descriptor(**value)\n\u001b[32m     37\u001b[39m     \u001b[38;5;28;01mexcept\u001b[39;00m (\u001b[38;5;167;01mTypeError\u001b[39;00m, \u001b[38;5;167;01mValueError\u001b[39;00m, \u001b[38;5;167;01mAttributeError\u001b[39;00m) \u001b[38;5;28;01mas\u001b[39;00m ex:\n\u001b[32m     38\u001b[39m         \u001b[38;5;66;03m# If we have a TypeError, ValueError or AttributeError,\u001b[39;00m\n\u001b[32m     39\u001b[39m         \u001b[38;5;66;03m# try the slow path in case the error\u001b[39;00m\n\u001b[32m   (...)\u001b[39m\u001b[32m     44\u001b[39m         \u001b[38;5;66;03m# - a missing key issue due to nested struct. See: https://github.com/googleapis/proto-plus-python/issues/424.\u001b[39;00m\n\u001b[32m     45\u001b[39m         \u001b[38;5;66;03m# - a missing key issue due to nested duration. See: https://github.com/googleapis/google-cloud-python/issues/13350.\u001b[39;00m\n\u001b[32m---> \u001b[39m\u001b[32m46\u001b[39m         \u001b[38;5;28;01mreturn\u001b[39;00m \u001b[38;5;28;43mself\u001b[39;49m\u001b[43m.\u001b[49m\u001b[43m_wrapper\u001b[49m\u001b[43m(\u001b[49m\u001b[43mvalue\u001b[49m\u001b[43m)\u001b[49m._pb\n\u001b[32m     47\u001b[39m \u001b[38;5;28;01mreturn\u001b[39;00m value\n",
      "\u001b[36mFile \u001b[39m\u001b[32m~/.virtualenvs/llm-playground/lib/python3.13/site-packages/proto/message.py:728\u001b[39m, in \u001b[36mMessage.__init__\u001b[39m\u001b[34m(self, mapping, ignore_unknown_fields, **kwargs)\u001b[39m\n\u001b[32m    722\u001b[39m         \u001b[38;5;28;01mcontinue\u001b[39;00m\n\u001b[32m    724\u001b[39m     \u001b[38;5;28;01mraise\u001b[39;00m \u001b[38;5;167;01mValueError\u001b[39;00m(\n\u001b[32m    725\u001b[39m         \u001b[33m\"\u001b[39m\u001b[33mUnknown field for \u001b[39m\u001b[38;5;132;01m{}\u001b[39;00m\u001b[33m: \u001b[39m\u001b[38;5;132;01m{}\u001b[39;00m\u001b[33m\"\u001b[39m.format(\u001b[38;5;28mself\u001b[39m.\u001b[34m__class__\u001b[39m.\u001b[34m__name__\u001b[39m, key)\n\u001b[32m    726\u001b[39m     )\n\u001b[32m--> \u001b[39m\u001b[32m728\u001b[39m pb_value = \u001b[43mmarshal\u001b[49m\u001b[43m.\u001b[49m\u001b[43mto_proto\u001b[49m\u001b[43m(\u001b[49m\u001b[43mpb_type\u001b[49m\u001b[43m,\u001b[49m\u001b[43m \u001b[49m\u001b[43mvalue\u001b[49m\u001b[43m)\u001b[49m\n\u001b[32m    730\u001b[39m \u001b[38;5;28;01mif\u001b[39;00m pb_value \u001b[38;5;129;01mis\u001b[39;00m \u001b[38;5;129;01mnot\u001b[39;00m \u001b[38;5;28;01mNone\u001b[39;00m:\n\u001b[32m    731\u001b[39m     params[key] = pb_value\n",
      "\u001b[36mFile \u001b[39m\u001b[32m~/.virtualenvs/llm-playground/lib/python3.13/site-packages/proto/marshal/marshal.py:233\u001b[39m, in \u001b[36mBaseMarshal.to_proto\u001b[39m\u001b[34m(self, proto_type, value, strict)\u001b[39m\n\u001b[32m    228\u001b[39m \u001b[38;5;28;01mif\u001b[39;00m \u001b[38;5;28misinstance\u001b[39m(value, \u001b[38;5;28mdict\u001b[39m) \u001b[38;5;129;01mand\u001b[39;00m (\n\u001b[32m    229\u001b[39m     proto_type.DESCRIPTOR.has_options\n\u001b[32m    230\u001b[39m     \u001b[38;5;129;01mand\u001b[39;00m proto_type.DESCRIPTOR.GetOptions().map_entry\n\u001b[32m    231\u001b[39m ):\n\u001b[32m    232\u001b[39m     recursive_type = \u001b[38;5;28mtype\u001b[39m(proto_type().value)\n\u001b[32m--> \u001b[39m\u001b[32m233\u001b[39m     \u001b[38;5;28;01mreturn\u001b[39;00m {k: \u001b[38;5;28;43mself\u001b[39;49m\u001b[43m.\u001b[49m\u001b[43mto_proto\u001b[49m\u001b[43m(\u001b[49m\u001b[43mrecursive_type\u001b[49m\u001b[43m,\u001b[49m\u001b[43m \u001b[49m\u001b[43mv\u001b[49m\u001b[43m)\u001b[49m \u001b[38;5;28;01mfor\u001b[39;00m k, v \u001b[38;5;129;01min\u001b[39;00m value.items()}\n\u001b[32m    235\u001b[39m pb_value = \u001b[38;5;28mself\u001b[39m.get_rule(proto_type=proto_type).to_proto(value)\n\u001b[32m    237\u001b[39m \u001b[38;5;66;03m# Sanity check: If we are in strict mode, did we get the value we want?\u001b[39;00m\n",
      "\u001b[36mFile \u001b[39m\u001b[32m~/.virtualenvs/llm-playground/lib/python3.13/site-packages/proto/marshal/marshal.py:235\u001b[39m, in \u001b[36mBaseMarshal.to_proto\u001b[39m\u001b[34m(self, proto_type, value, strict)\u001b[39m\n\u001b[32m    232\u001b[39m     recursive_type = \u001b[38;5;28mtype\u001b[39m(proto_type().value)\n\u001b[32m    233\u001b[39m     \u001b[38;5;28;01mreturn\u001b[39;00m {k: \u001b[38;5;28mself\u001b[39m.to_proto(recursive_type, v) \u001b[38;5;28;01mfor\u001b[39;00m k, v \u001b[38;5;129;01min\u001b[39;00m value.items()}\n\u001b[32m--> \u001b[39m\u001b[32m235\u001b[39m pb_value = \u001b[38;5;28;43mself\u001b[39;49m\u001b[43m.\u001b[49m\u001b[43mget_rule\u001b[49m\u001b[43m(\u001b[49m\u001b[43mproto_type\u001b[49m\u001b[43m=\u001b[49m\u001b[43mproto_type\u001b[49m\u001b[43m)\u001b[49m\u001b[43m.\u001b[49m\u001b[43mto_proto\u001b[49m\u001b[43m(\u001b[49m\u001b[43mvalue\u001b[49m\u001b[43m)\u001b[49m\n\u001b[32m    237\u001b[39m \u001b[38;5;66;03m# Sanity check: If we are in strict mode, did we get the value we want?\u001b[39;00m\n\u001b[32m    238\u001b[39m \u001b[38;5;28;01mif\u001b[39;00m strict \u001b[38;5;129;01mand\u001b[39;00m \u001b[38;5;129;01mnot\u001b[39;00m \u001b[38;5;28misinstance\u001b[39m(pb_value, proto_type):\n",
      "\u001b[36mFile \u001b[39m\u001b[32m~/.virtualenvs/llm-playground/lib/python3.13/site-packages/proto/marshal/rules/message.py:46\u001b[39m, in \u001b[36mMessageRule.to_proto\u001b[39m\u001b[34m(self, value)\u001b[39m\n\u001b[32m     36\u001b[39m         \u001b[38;5;28;01mreturn\u001b[39;00m \u001b[38;5;28mself\u001b[39m._descriptor(**value)\n\u001b[32m     37\u001b[39m     \u001b[38;5;28;01mexcept\u001b[39;00m (\u001b[38;5;167;01mTypeError\u001b[39;00m, \u001b[38;5;167;01mValueError\u001b[39;00m, \u001b[38;5;167;01mAttributeError\u001b[39;00m) \u001b[38;5;28;01mas\u001b[39;00m ex:\n\u001b[32m     38\u001b[39m         \u001b[38;5;66;03m# If we have a TypeError, ValueError or AttributeError,\u001b[39;00m\n\u001b[32m     39\u001b[39m         \u001b[38;5;66;03m# try the slow path in case the error\u001b[39;00m\n\u001b[32m   (...)\u001b[39m\u001b[32m     44\u001b[39m         \u001b[38;5;66;03m# - a missing key issue due to nested struct. See: https://github.com/googleapis/proto-plus-python/issues/424.\u001b[39;00m\n\u001b[32m     45\u001b[39m         \u001b[38;5;66;03m# - a missing key issue due to nested duration. See: https://github.com/googleapis/google-cloud-python/issues/13350.\u001b[39;00m\n\u001b[32m---> \u001b[39m\u001b[32m46\u001b[39m         \u001b[38;5;28;01mreturn\u001b[39;00m \u001b[38;5;28;43mself\u001b[39;49m\u001b[43m.\u001b[49m\u001b[43m_wrapper\u001b[49m\u001b[43m(\u001b[49m\u001b[43mvalue\u001b[49m\u001b[43m)\u001b[49m._pb\n\u001b[32m     47\u001b[39m \u001b[38;5;28;01mreturn\u001b[39;00m value\n",
      "\u001b[36mFile \u001b[39m\u001b[32m~/.virtualenvs/llm-playground/lib/python3.13/site-packages/proto/message.py:734\u001b[39m, in \u001b[36mMessage.__init__\u001b[39m\u001b[34m(self, mapping, ignore_unknown_fields, **kwargs)\u001b[39m\n\u001b[32m    731\u001b[39m         params[key] = pb_value\n\u001b[32m    733\u001b[39m \u001b[38;5;66;03m# Create the internal protocol buffer.\u001b[39;00m\n\u001b[32m--> \u001b[39m\u001b[32m734\u001b[39m \u001b[38;5;28msuper\u001b[39m().\u001b[34m__setattr__\u001b[39m(\u001b[33m\"\u001b[39m\u001b[33m_pb\u001b[39m\u001b[33m\"\u001b[39m, \u001b[38;5;28;43mself\u001b[39;49m\u001b[43m.\u001b[49m\u001b[43m_meta\u001b[49m\u001b[43m.\u001b[49m\u001b[43mpb\u001b[49m\u001b[43m(\u001b[49m\u001b[43m*\u001b[49m\u001b[43m*\u001b[49m\u001b[43mparams\u001b[49m\u001b[43m)\u001b[49m)\n",
      "\u001b[31mTypeError\u001b[39m: bad argument type for built-in operation"
     ]
    }
   ],
   "source": [
    "# Finer controll\n",
    "class Classification(BaseModel):\n",
    "    sentiment: str = Field(..., enum=[\"happy\", \"neutral\", \"sad\"])\n",
    "    aggressiveness: int = Field(\n",
    "        ...,\n",
    "        description=\"describes how aggressive the statement is, the higher the number the more aggressive\",\n",
    "        enum=[1, 2, 3, 4, 5],\n",
    "    )\n",
    "    language: str = Field(\n",
    "        ..., enum=[\"spanish\", \"english\", \"french\", \"german\", \"italian\"]\n",
    "    )\n",
    "\n",
    "llm2 = init_chat_model(\"gemini-2.0-flash\", model_provider=\"google_genai\")\n",
    "# llm = ChatOpenAI(temperature=0, model=\"gpt-4o-mini\").with_structured_output(\n",
    "#     Classification\n",
    "# )\n"
   ]
  },
  {
   "cell_type": "code",
   "execution_count": 27,
   "id": "b8fd225a",
   "metadata": {},
   "outputs": [
    {
     "data": {
      "text/plain": [
       "{'sentiment': 'happy', 'aggressiveness': 1, 'language': 'spanish'}"
      ]
     },
     "execution_count": 27,
     "metadata": {},
     "output_type": "execute_result"
    }
   ],
   "source": [
    "\n",
    "from langchain.output_parsers import PydanticOutputParser\n",
    "from langchain_core.prompts import PromptTemplate\n",
    "\n",
    "# Create parser and prompt template\n",
    "parser = PydanticOutputParser(pydantic_object=Classification)\n",
    "\n",
    "tagging_prompt = ChatPromptTemplate.from_template(\n",
    "    \"\"\"Extract the desired information from the following passage and return ONLY a valid JSON object.\n",
    "\n",
    "{format_instructions}\n",
    "\n",
    "Passage: {input}\n",
    "\"\"\",\n",
    "    partial_variables={\"format_instructions\": parser.get_format_instructions()}\n",
    ")\n",
    "\n",
    "\n",
    "inp = \"Estoy increiblemente contento de haberte conocido! Creo que seremos muy buenos amigos!\"\n",
    "prompt = tagging_prompt.invoke({\"input\": inp})\n",
    "response = llm2.invoke(prompt)\n",
    "result = parser.parse(response.content)\n",
    "result.model_dump()"
   ]
  },
  {
   "cell_type": "code",
   "execution_count": 29,
   "id": "476d00c3",
   "metadata": {},
   "outputs": [
    {
     "data": {
      "text/plain": [
       "{'sentiment': 'happy', 'aggressiveness': 1, 'language': 'spanish'}"
      ]
     },
     "execution_count": 29,
     "metadata": {},
     "output_type": "execute_result"
    }
   ],
   "source": [
    "# Create the chain using pipe operator\n",
    "chain = tagging_prompt | llm2 | parser\n",
    "\n",
    "# Usage\n",
    "inp = \"Estoy increiblemente contento de haberte conocido! Creo que seremos muy buenos amigos!\"\n",
    "result = chain.invoke({\"input\": inp})\n",
    "result.model_dump()"
   ]
  },
  {
   "cell_type": "code",
   "execution_count": 30,
   "id": "ab9df8be",
   "metadata": {},
   "outputs": [
    {
     "data": {
      "text/plain": [
       "{'sentiment': 'happy', 'aggressiveness': 1, 'language': 'spanish'}"
      ]
     },
     "execution_count": 30,
     "metadata": {},
     "output_type": "execute_result"
    }
   ],
   "source": [
    "inp = \"Estoy increiblemente contento de haberte conocido! Creo que seremos muy buenos amigos!\"\n",
    "result = chain.invoke({\"input\": inp})\n",
    "result.model_dump()"
   ]
  },
  {
   "cell_type": "code",
   "execution_count": 31,
   "id": "c5f99806",
   "metadata": {},
   "outputs": [
    {
     "data": {
      "text/plain": [
       "{'sentiment': 'sad', 'aggressiveness': 5, 'language': 'spanish'}"
      ]
     },
     "execution_count": 31,
     "metadata": {},
     "output_type": "execute_result"
    }
   ],
   "source": [
    "inp = \"Estoy muy enojado con vos! Te voy a dar tu merecido!\"\n",
    "result = chain.invoke({\"input\": inp})\n",
    "result.model_dump()"
   ]
  },
  {
   "cell_type": "code",
   "execution_count": 32,
   "id": "eddd1803",
   "metadata": {},
   "outputs": [
    {
     "data": {
      "text/plain": [
       "{'sentiment': 'neutral', 'aggressiveness': 1, 'language': 'english'}"
      ]
     },
     "execution_count": 32,
     "metadata": {},
     "output_type": "execute_result"
    }
   ],
   "source": [
    "inp = \"Weather is ok here, I can go outside without much more than a coat.\"\n",
    "result = chain.invoke({\"input\": inp})\n",
    "result.model_dump()"
   ]
  }
 ],
 "metadata": {
  "kernelspec": {
   "display_name": "llm-playground",
   "language": "python",
   "name": "python3"
  },
  "language_info": {
   "codemirror_mode": {
    "name": "ipython",
    "version": 3
   },
   "file_extension": ".py",
   "mimetype": "text/x-python",
   "name": "python",
   "nbconvert_exporter": "python",
   "pygments_lexer": "ipython3",
   "version": "3.13.5"
  }
 },
 "nbformat": 4,
 "nbformat_minor": 5
}
