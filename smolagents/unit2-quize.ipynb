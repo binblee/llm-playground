{
 "cells": [
  {
   "cell_type": "code",
   "execution_count": null,
   "id": "4dc90c68",
   "metadata": {},
   "outputs": [],
   "source": [
    "# Create a CodeAgent with DuckDuckGo search capability\n",
    "from smolagents import CodeAgent, DuckDuckGoSearchTool\n",
    "\n",
    "model = HfApiModel(\n",
    "    model_name=\"gpt-3.5-turbo\"\n",
    ")\n",
    "agent = CodeAgent(\n",
    "    tools=[DuckDuckGoSearchTool()],           # Add search tool here\n",
    "    model=model          # Add model here\n",
    ")"
   ]
  },
  {
   "cell_type": "code",
   "execution_count": null,
   "id": "a8a6b856",
   "metadata": {},
   "outputs": [],
   "source": [
    "# Create web agent and manager agent structure\n",
    "web_agent = ToolCallingAgent(\n",
    "    tools=[DuckDuckGoSearchTool()],           # Add required tools\n",
    "    model=model,         # Add model\n",
    "    max_steps=10,        # Adjust steps\n",
    "    name=\"web_agent\",           # Add name\n",
    "    description=\"Web search agent\"      # Add description,\n",
    "    additional_authorized_imports = [\"requests\"]  # Add any additional imports needed\n",
    ")\n",
    "\n",
    "manager_agent = CodeAgent(\n",
    "    model=model,\n",
    "    managed_agents=[web_agent],\n",
    "    additional_authorized_imports=[\n",
    "        \"geopandas\",\n",
    "        \"plotly\", \"plotly.express\",\n",
    "        \"shapely\",\n",
    "        \"json\",\n",
    "        \"pandas\",\n",
    "        \"numpy\"\n",
    "],\n",
    "    max_steps=15,\n",
    ")"
   ]
  },
  {
   "cell_type": "code",
   "execution_count": null,
   "id": "cab796b7",
   "metadata": {},
   "outputs": [],
   "source": [
    "agent = CodeAgent(\n",
    "    tools=[DuckDuckGoSearchTool()],  # Add search tool\n",
    "    model=model,\n",
    "    authorized_imports=[\"requests\", \"json\", \"pandas\", \"numpy\"],  # Add necessary imports\n",
    "    # Add security configuration\n",
    "    security_config=SecurityConfig(\n",
    "        max_steps=10,\n",
    "        max_tokens=1000,\n",
    "        max_memory=1000000,\n",
    "        max_execution_time=60,\n",
    "        max_imports=5,\n",
    "        additional_authorized_imports=[\"requests\"]\n",
    "    )\n",
    ")"
   ]
  },
  {
   "cell_type": "code",
   "execution_count": null,
   "id": "4d8dbe62",
   "metadata": {},
   "outputs": [],
   "source": [
    "from smolagents import ToolCallingAgent\n",
    "\n",
    "agent = ToolCallingAgent(\n",
    "    # Add configuration here\n",
    "    tools=[DuckDuckGoSearchTool()],  # Add search tool\n",
    "    model=model,         # Add model\n",
    "    max_steps=10,        # Adjust steps\n",
    "    name=\"web_agent\",           # Add name\n",
    "    description=\"Web search agent\",      # Add description\n",
    "    additional_authorized_imports=[\"requests\"]  # Add any additional imports needed \n",
    ")"
   ]
  }
 ],
 "metadata": {
  "kernelspec": {
   "display_name": "llm-playground",
   "language": "python",
   "name": "python3"
  },
  "language_info": {
   "name": "python",
   "version": "3.13.5"
  }
 },
 "nbformat": 4,
 "nbformat_minor": 5
}
