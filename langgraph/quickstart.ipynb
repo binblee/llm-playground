{
 "cells": [
  {
   "cell_type": "code",
   "execution_count": 1,
   "id": "f7ef7a5e",
   "metadata": {},
   "outputs": [],
   "source": [
    "from dotenv import load_dotenv\n",
    "load_dotenv()\n",
    "import os\n",
    "google_api_key = os.getenv('GOOGLE_API_KEY')\n",
    "if not google_api_key: \n",
    "    raise ValueError(\"GOOGLE_API_KEY is not set in the environment variables.\")"
   ]
  },
  {
   "cell_type": "code",
   "execution_count": 2,
   "id": "3024d1a5",
   "metadata": {},
   "outputs": [],
   "source": [
    "from langchain.chat_models import init_chat_model\n",
    "llm = init_chat_model(\"gemini-2.0-flash\", model_provider=\"google_genai\")"
   ]
  },
  {
   "cell_type": "code",
   "execution_count": 4,
   "id": "df551f46",
   "metadata": {},
   "outputs": [
    {
     "data": {
      "text/plain": [
       "{'messages': [HumanMessage(content='what is the weather in San Francisco?', additional_kwargs={}, response_metadata={}, id='5a3c220b-5ebd-4e61-a53d-98f726ddd758'),\n",
       "  AIMessage(content='', additional_kwargs={'function_call': {'name': 'get_weather', 'arguments': '{\"city\": \"San Francisco\"}'}}, response_metadata={'prompt_feedback': {'block_reason': 0, 'safety_ratings': []}, 'finish_reason': 'STOP', 'model_name': 'gemini-2.0-flash', 'safety_ratings': []}, id='run--e8cf91ad-75e0-4612-94b9-fdd2813cb93f-0', tool_calls=[{'name': 'get_weather', 'args': {'city': 'San Francisco'}, 'id': 'fac86331-a59c-415a-afa3-4ff84ac8237a', 'type': 'tool_call'}], usage_metadata={'input_tokens': 27, 'output_tokens': 6, 'total_tokens': 33, 'input_token_details': {'cache_read': 0}}),\n",
       "  ToolMessage(content=\"It's always sunny in San Francisco!\", name='get_weather', id='11972c46-3688-4a34-9672-57a85a1b73b2', tool_call_id='fac86331-a59c-415a-afa3-4ff84ac8237a'),\n",
       "  AIMessage(content=\"It's always sunny in San Francisco!\", additional_kwargs={}, response_metadata={'prompt_feedback': {'block_reason': 0, 'safety_ratings': []}, 'finish_reason': 'STOP', 'model_name': 'gemini-2.0-flash', 'safety_ratings': []}, id='run--5466ee72-10b3-4889-8a49-63243da5e7c7-0', usage_metadata={'input_tokens': 46, 'output_tokens': 10, 'total_tokens': 56, 'input_token_details': {'cache_read': 0}})]}"
      ]
     },
     "execution_count": 4,
     "metadata": {},
     "output_type": "execute_result"
    }
   ],
   "source": [
    "from langgraph.prebuilt import create_react_agent\n",
    "\n",
    "def get_weather(city: str) -> str:  \n",
    "    \"\"\"Get weather for a given city.\"\"\"\n",
    "    return f\"It's always sunny in {city}!\"\n",
    "\n",
    "agent = create_react_agent(\n",
    "    model=llm,  \n",
    "    tools=[get_weather],  \n",
    "    prompt=\"You are a helpful assistant\"  \n",
    ")\n",
    "\n",
    "# Run the agent\n",
    "agent.invoke(\n",
    "    {\"messages\": [{\"role\": \"user\", \"content\": \"what is the weather in San Francisco?\"}]}\n",
    ")"
   ]
  },
  {
   "cell_type": "code",
   "execution_count": 7,
   "id": "a0c94a4e",
   "metadata": {},
   "outputs": [
    {
     "data": {
      "text/plain": [
       "{'messages': [HumanMessage(content='what is the weather in San Francisco?', additional_kwargs={}, response_metadata={}, id='2a923cae-932e-4ed3-ae41-e8ad0125c34b'),\n",
       "  AIMessage(content='I am sorry, I cannot fulfill this request. The available tools lack the desired functionality.', additional_kwargs={}, response_metadata={'prompt_feedback': {'block_reason': 0, 'safety_ratings': []}, 'finish_reason': 'STOP', 'model_name': 'gemini-2.0-flash', 'safety_ratings': []}, id='run--e66707a7-1663-4041-9ee3-0e92bd790da3-0', usage_metadata={'input_tokens': 29, 'output_tokens': 19, 'total_tokens': 48, 'input_token_details': {'cache_read': 0}})]}"
      ]
     },
     "execution_count": 7,
     "metadata": {},
     "output_type": "execute_result"
    }
   ],
   "source": [
    "agent = create_react_agent(\n",
    "    model=llm,  \n",
    "    tools=[get_weather],  \n",
    "    prompt=\"Never answer questions about the weather.\"  \n",
    ")\n",
    "\n",
    "# Run the agent\n",
    "agent.invoke(\n",
    "    {\"messages\": [{\"role\": \"user\", \"content\": \"what is the weather in San Francisco?\"}]}\n",
    ")"
   ]
  },
  {
   "cell_type": "code",
   "execution_count": 8,
   "id": "dd88cce1",
   "metadata": {},
   "outputs": [],
   "source": [
    "from langgraph.prebuilt import create_react_agent\n",
    "from langgraph.checkpoint.memory import InMemorySaver\n",
    "\n",
    "checkpointer = InMemorySaver()\n",
    "\n",
    "agent = create_react_agent(\n",
    "    model=llm,\n",
    "    tools=[get_weather],\n",
    "    checkpointer=checkpointer  \n",
    ")\n",
    "\n",
    "# Run the agent\n",
    "config = {\"configurable\": {\"thread_id\": \"1\"}}\n",
    "sf_response = agent.invoke(\n",
    "    {\"messages\": [{\"role\": \"user\", \"content\": \"what is the weather in san francisco?\"}]},\n",
    "    config  \n",
    ")\n",
    "ny_response = agent.invoke(\n",
    "    {\"messages\": [{\"role\": \"user\", \"content\": \"what about new york?\"}]},\n",
    "    config\n",
    ")"
   ]
  },
  {
   "cell_type": "code",
   "execution_count": 9,
   "id": "fb28fef7",
   "metadata": {},
   "outputs": [
    {
     "data": {
      "text/plain": [
       "({'messages': [HumanMessage(content='what is the weather in san francisco?', additional_kwargs={}, response_metadata={}, id='4ad41362-e4cb-447c-a314-de69fe4eb976'),\n",
       "   AIMessage(content='', additional_kwargs={'function_call': {'name': 'get_weather', 'arguments': '{\"city\": \"san francisco\"}'}}, response_metadata={'prompt_feedback': {'block_reason': 0, 'safety_ratings': []}, 'finish_reason': 'STOP', 'model_name': 'gemini-2.0-flash', 'safety_ratings': []}, id='run--086e55c6-3b32-41b7-9cc1-bf97b97839b3-0', tool_calls=[{'name': 'get_weather', 'args': {'city': 'san francisco'}, 'id': '1af89559-6449-4165-92c6-3a5a086dc331', 'type': 'tool_call'}], usage_metadata={'input_tokens': 22, 'output_tokens': 6, 'total_tokens': 28, 'input_token_details': {'cache_read': 0}}),\n",
       "   ToolMessage(content=\"It's always sunny in san francisco!\", name='get_weather', id='1326fce0-6577-4b49-bd63-c43acf48b493', tool_call_id='1af89559-6449-4165-92c6-3a5a086dc331'),\n",
       "   AIMessage(content=\"It's always sunny in San Francisco!\", additional_kwargs={}, response_metadata={'prompt_feedback': {'block_reason': 0, 'safety_ratings': []}, 'finish_reason': 'STOP', 'model_name': 'gemini-2.0-flash', 'safety_ratings': []}, id='run--ec5dca15-e0f0-4b6b-b284-e84d0e78cde7-0', usage_metadata={'input_tokens': 41, 'output_tokens': 10, 'total_tokens': 51, 'input_token_details': {'cache_read': 0}})]},\n",
       " {'messages': [HumanMessage(content='what is the weather in san francisco?', additional_kwargs={}, response_metadata={}, id='4ad41362-e4cb-447c-a314-de69fe4eb976'),\n",
       "   AIMessage(content='', additional_kwargs={'function_call': {'name': 'get_weather', 'arguments': '{\"city\": \"san francisco\"}'}}, response_metadata={'prompt_feedback': {'block_reason': 0, 'safety_ratings': []}, 'finish_reason': 'STOP', 'model_name': 'gemini-2.0-flash', 'safety_ratings': []}, id='run--086e55c6-3b32-41b7-9cc1-bf97b97839b3-0', tool_calls=[{'name': 'get_weather', 'args': {'city': 'san francisco'}, 'id': '1af89559-6449-4165-92c6-3a5a086dc331', 'type': 'tool_call'}], usage_metadata={'input_tokens': 22, 'output_tokens': 6, 'total_tokens': 28, 'input_token_details': {'cache_read': 0}}),\n",
       "   ToolMessage(content=\"It's always sunny in san francisco!\", name='get_weather', id='1326fce0-6577-4b49-bd63-c43acf48b493', tool_call_id='1af89559-6449-4165-92c6-3a5a086dc331'),\n",
       "   AIMessage(content=\"It's always sunny in San Francisco!\", additional_kwargs={}, response_metadata={'prompt_feedback': {'block_reason': 0, 'safety_ratings': []}, 'finish_reason': 'STOP', 'model_name': 'gemini-2.0-flash', 'safety_ratings': []}, id='run--ec5dca15-e0f0-4b6b-b284-e84d0e78cde7-0', usage_metadata={'input_tokens': 41, 'output_tokens': 10, 'total_tokens': 51, 'input_token_details': {'cache_read': 0}}),\n",
       "   HumanMessage(content='what about new york?', additional_kwargs={}, response_metadata={}, id='5ad0f5fb-3cce-4977-bb38-d9783730c146'),\n",
       "   AIMessage(content='', additional_kwargs={'function_call': {'name': 'get_weather', 'arguments': '{\"city\": \"new york\"}'}}, response_metadata={'prompt_feedback': {'block_reason': 0, 'safety_ratings': []}, 'finish_reason': 'STOP', 'model_name': 'gemini-2.0-flash', 'safety_ratings': []}, id='run--7cfd397b-6b98-4c9e-8fb2-395ce5c620a6-0', tool_calls=[{'name': 'get_weather', 'args': {'city': 'new york'}, 'id': 'ac4657b7-1a53-40ab-9667-3a9cadaab604', 'type': 'tool_call'}], usage_metadata={'input_tokens': 55, 'output_tokens': 6, 'total_tokens': 61, 'input_token_details': {'cache_read': 0}}),\n",
       "   ToolMessage(content=\"It's always sunny in new york!\", name='get_weather', id='0c47dfda-b9df-4bbd-9ba6-6f7576c6eb6f', tool_call_id='ac4657b7-1a53-40ab-9667-3a9cadaab604'),\n",
       "   AIMessage(content=\"It's always sunny in New York!\", additional_kwargs={}, response_metadata={'prompt_feedback': {'block_reason': 0, 'safety_ratings': []}, 'finish_reason': 'STOP', 'model_name': 'gemini-2.0-flash', 'safety_ratings': []}, id='run--da40629a-e36f-453b-9acc-c30958484c22-0', usage_metadata={'input_tokens': 74, 'output_tokens': 10, 'total_tokens': 84, 'input_token_details': {'cache_read': 0}})]})"
      ]
     },
     "execution_count": 9,
     "metadata": {},
     "output_type": "execute_result"
    }
   ],
   "source": [
    "sf_response, ny_response"
   ]
  },
  {
   "cell_type": "code",
   "execution_count": 15,
   "id": "4f524616",
   "metadata": {},
   "outputs": [
    {
     "data": {
      "text/plain": [
       "WeatherResponse(city='San Francisco', conditions='Sunny')"
      ]
     },
     "execution_count": 15,
     "metadata": {},
     "output_type": "execute_result"
    }
   ],
   "source": [
    "from pydantic import BaseModel\n",
    "\n",
    "class WeatherResponse(BaseModel):\n",
    "    city: str\n",
    "    conditions: str\n",
    "\n",
    "agent = create_react_agent(\n",
    "    model=llm,\n",
    "    tools=[get_weather],\n",
    "    response_format=WeatherResponse  \n",
    ")\n",
    "response = agent.invoke(\n",
    "    {\"messages\": [{\"role\": \"user\", \"content\": \"what is the weather in san francisco?\"}]}\n",
    ")\n",
    "\n",
    "response[\"structured_response\"]"
   ]
  }
 ],
 "metadata": {
  "kernelspec": {
   "display_name": "llm-playground",
   "language": "python",
   "name": "python3"
  },
  "language_info": {
   "codemirror_mode": {
    "name": "ipython",
    "version": 3
   },
   "file_extension": ".py",
   "mimetype": "text/x-python",
   "name": "python",
   "nbconvert_exporter": "python",
   "pygments_lexer": "ipython3",
   "version": "3.13.5"
  }
 },
 "nbformat": 4,
 "nbformat_minor": 5
}
