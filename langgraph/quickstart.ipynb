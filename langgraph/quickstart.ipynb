{
 "cells": [
  {
   "cell_type": "code",
   "execution_count": 1,
   "id": "f7ef7a5e",
   "metadata": {},
   "outputs": [],
   "source": [
    "from dotenv import load_dotenv\n",
    "load_dotenv()\n",
    "import os\n",
    "google_api_key = os.getenv('GOOGLE_API_KEY')\n",
    "if not google_api_key: \n",
    "    raise ValueError(\"GOOGLE_API_KEY is not set in the environment variables.\")"
   ]
  },
  {
   "cell_type": "code",
   "execution_count": 2,
   "id": "3024d1a5",
   "metadata": {},
   "outputs": [],
   "source": [
    "from langchain.chat_models import init_chat_model\n",
    "llm = init_chat_model(\"gemini-2.0-flash\", model_provider=\"google_genai\")"
   ]
  },
  {
   "cell_type": "code",
   "execution_count": 3,
   "id": "df551f46",
   "metadata": {},
   "outputs": [
    {
     "data": {
      "text/plain": [
       "{'messages': [HumanMessage(content='what is the weather in San Francisco?', additional_kwargs={}, response_metadata={}, id='e0fc366b-3880-4a4f-8716-81a2f932809f'),\n",
       "  AIMessage(content='', additional_kwargs={'function_call': {'name': 'get_weather', 'arguments': '{\"city\": \"San Francisco\"}'}}, response_metadata={'prompt_feedback': {'block_reason': 0, 'safety_ratings': []}, 'finish_reason': 'STOP', 'model_name': 'gemini-2.0-flash', 'safety_ratings': []}, id='run--9eb02329-5edc-41f0-8b9e-dc70275e81f9-0', tool_calls=[{'name': 'get_weather', 'args': {'city': 'San Francisco'}, 'id': 'f1239a8e-54ac-464f-b2a0-d14de7164a8b', 'type': 'tool_call'}], usage_metadata={'input_tokens': 27, 'output_tokens': 6, 'total_tokens': 33, 'input_token_details': {'cache_read': 0}}),\n",
       "  ToolMessage(content=\"It's always sunny in San Francisco!\", name='get_weather', id='609da351-92a0-427a-ac65-b0159f3ce64e', tool_call_id='f1239a8e-54ac-464f-b2a0-d14de7164a8b'),\n",
       "  AIMessage(content=\"It's always sunny in San Francisco!\", additional_kwargs={}, response_metadata={'prompt_feedback': {'block_reason': 0, 'safety_ratings': []}, 'finish_reason': 'STOP', 'model_name': 'gemini-2.0-flash', 'safety_ratings': []}, id='run--0a4e8ee7-b94e-4e1b-b736-ba4d67e44abf-0', usage_metadata={'input_tokens': 46, 'output_tokens': 10, 'total_tokens': 56, 'input_token_details': {'cache_read': 0}})]}"
      ]
     },
     "execution_count": 3,
     "metadata": {},
     "output_type": "execute_result"
    }
   ],
   "source": [
    "from langgraph.prebuilt import create_react_agent\n",
    "\n",
    "def get_weather(city: str) -> str:  \n",
    "    \"\"\"Get weather for a given city.\"\"\"\n",
    "    return f\"It's always sunny in {city}!\"\n",
    "\n",
    "agent = create_react_agent(\n",
    "    model=llm,  \n",
    "    tools=[get_weather],  \n",
    "    prompt=\"You are a helpful assistant\"  \n",
    ")\n",
    "\n",
    "# Run the agent\n",
    "agent.invoke(\n",
    "    {\"messages\": [{\"role\": \"user\", \"content\": \"what is the weather in San Francisco?\"}]}\n",
    ")"
   ]
  },
  {
   "cell_type": "code",
   "execution_count": 4,
   "id": "a0c94a4e",
   "metadata": {},
   "outputs": [
    {
     "data": {
      "text/plain": [
       "{'messages': [HumanMessage(content='what is the weather in San Francisco?', additional_kwargs={}, response_metadata={}, id='217a017c-ae51-4160-ad92-0288a4ee24fb'),\n",
       "  AIMessage(content='I am sorry, I cannot fulfill this request. The available tools lack the ability to provide weather information.', additional_kwargs={}, response_metadata={'prompt_feedback': {'block_reason': 0, 'safety_ratings': []}, 'finish_reason': 'STOP', 'model_name': 'gemini-2.0-flash', 'safety_ratings': []}, id='run--e2c66846-3a1e-4b74-82e4-512553b8a438-0', usage_metadata={'input_tokens': 29, 'output_tokens': 22, 'total_tokens': 51, 'input_token_details': {'cache_read': 0}})]}"
      ]
     },
     "execution_count": 4,
     "metadata": {},
     "output_type": "execute_result"
    }
   ],
   "source": [
    "agent = create_react_agent(\n",
    "    model=llm,  \n",
    "    tools=[get_weather],  \n",
    "    prompt=\"Never answer questions about the weather.\"  \n",
    ")\n",
    "\n",
    "# Run the agent\n",
    "agent.invoke(\n",
    "    {\"messages\": [{\"role\": \"user\", \"content\": \"what is the weather in San Francisco?\"}]}\n",
    ")"
   ]
  },
  {
   "cell_type": "code",
   "execution_count": 5,
   "id": "dd88cce1",
   "metadata": {},
   "outputs": [],
   "source": [
    "from langgraph.prebuilt import create_react_agent\n",
    "from langgraph.checkpoint.memory import InMemorySaver\n",
    "\n",
    "checkpointer = InMemorySaver()\n",
    "\n",
    "agent = create_react_agent(\n",
    "    model=llm,\n",
    "    tools=[get_weather],\n",
    "    checkpointer=checkpointer  \n",
    ")\n",
    "\n",
    "# Run the agent\n",
    "config = {\"configurable\": {\"thread_id\": \"1\"}}\n",
    "sf_response = agent.invoke(\n",
    "    {\"messages\": [{\"role\": \"user\", \"content\": \"what is the weather in san francisco?\"}]},\n",
    "    config  \n",
    ")\n",
    "ny_response = agent.invoke(\n",
    "    {\"messages\": [{\"role\": \"user\", \"content\": \"what about new york?\"}]},\n",
    "    config\n",
    ")"
   ]
  },
  {
   "cell_type": "code",
   "execution_count": 6,
   "id": "fb28fef7",
   "metadata": {},
   "outputs": [
    {
     "data": {
      "text/plain": [
       "({'messages': [HumanMessage(content='what is the weather in san francisco?', additional_kwargs={}, response_metadata={}, id='31a41ef8-f3cd-4adf-b1ce-69d63dffbd9b'),\n",
       "   AIMessage(content='', additional_kwargs={'function_call': {'name': 'get_weather', 'arguments': '{\"city\": \"san francisco\"}'}}, response_metadata={'prompt_feedback': {'block_reason': 0, 'safety_ratings': []}, 'finish_reason': 'STOP', 'model_name': 'gemini-2.0-flash', 'safety_ratings': []}, id='run--4c414b2c-602e-466e-aa57-31c0ad75d4c8-0', tool_calls=[{'name': 'get_weather', 'args': {'city': 'san francisco'}, 'id': '8f823329-e325-4a98-b2b1-a2d25f5a4844', 'type': 'tool_call'}], usage_metadata={'input_tokens': 22, 'output_tokens': 6, 'total_tokens': 28, 'input_token_details': {'cache_read': 0}}),\n",
       "   ToolMessage(content=\"It's always sunny in san francisco!\", name='get_weather', id='59b0093c-3ca7-4a30-bc67-7df18c6d639f', tool_call_id='8f823329-e325-4a98-b2b1-a2d25f5a4844'),\n",
       "   AIMessage(content=\"It's always sunny in San Francisco!\", additional_kwargs={}, response_metadata={'prompt_feedback': {'block_reason': 0, 'safety_ratings': []}, 'finish_reason': 'STOP', 'model_name': 'gemini-2.0-flash', 'safety_ratings': []}, id='run--af7e2f3a-de0b-4496-b39a-f234bd9841b5-0', usage_metadata={'input_tokens': 41, 'output_tokens': 10, 'total_tokens': 51, 'input_token_details': {'cache_read': 0}})]},\n",
       " {'messages': [HumanMessage(content='what is the weather in san francisco?', additional_kwargs={}, response_metadata={}, id='31a41ef8-f3cd-4adf-b1ce-69d63dffbd9b'),\n",
       "   AIMessage(content='', additional_kwargs={'function_call': {'name': 'get_weather', 'arguments': '{\"city\": \"san francisco\"}'}}, response_metadata={'prompt_feedback': {'block_reason': 0, 'safety_ratings': []}, 'finish_reason': 'STOP', 'model_name': 'gemini-2.0-flash', 'safety_ratings': []}, id='run--4c414b2c-602e-466e-aa57-31c0ad75d4c8-0', tool_calls=[{'name': 'get_weather', 'args': {'city': 'san francisco'}, 'id': '8f823329-e325-4a98-b2b1-a2d25f5a4844', 'type': 'tool_call'}], usage_metadata={'input_tokens': 22, 'output_tokens': 6, 'total_tokens': 28, 'input_token_details': {'cache_read': 0}}),\n",
       "   ToolMessage(content=\"It's always sunny in san francisco!\", name='get_weather', id='59b0093c-3ca7-4a30-bc67-7df18c6d639f', tool_call_id='8f823329-e325-4a98-b2b1-a2d25f5a4844'),\n",
       "   AIMessage(content=\"It's always sunny in San Francisco!\", additional_kwargs={}, response_metadata={'prompt_feedback': {'block_reason': 0, 'safety_ratings': []}, 'finish_reason': 'STOP', 'model_name': 'gemini-2.0-flash', 'safety_ratings': []}, id='run--af7e2f3a-de0b-4496-b39a-f234bd9841b5-0', usage_metadata={'input_tokens': 41, 'output_tokens': 10, 'total_tokens': 51, 'input_token_details': {'cache_read': 0}}),\n",
       "   HumanMessage(content='what about new york?', additional_kwargs={}, response_metadata={}, id='110ea0d7-adec-4c04-a8f4-779c1151789b'),\n",
       "   AIMessage(content='', additional_kwargs={'function_call': {'name': 'get_weather', 'arguments': '{\"city\": \"new york\"}'}}, response_metadata={'prompt_feedback': {'block_reason': 0, 'safety_ratings': []}, 'finish_reason': 'STOP', 'model_name': 'gemini-2.0-flash', 'safety_ratings': []}, id='run--9cc1bde6-f068-4339-b0ac-489c8a2760bb-0', tool_calls=[{'name': 'get_weather', 'args': {'city': 'new york'}, 'id': '18340c35-b275-4076-b4ec-9446c272c52c', 'type': 'tool_call'}], usage_metadata={'input_tokens': 55, 'output_tokens': 6, 'total_tokens': 61, 'input_token_details': {'cache_read': 0}}),\n",
       "   ToolMessage(content=\"It's always sunny in new york!\", name='get_weather', id='fd4a45ca-dfe7-41e9-9608-ff4e5fab7a55', tool_call_id='18340c35-b275-4076-b4ec-9446c272c52c'),\n",
       "   AIMessage(content=\"It's always sunny in New York!\", additional_kwargs={}, response_metadata={'prompt_feedback': {'block_reason': 0, 'safety_ratings': []}, 'finish_reason': 'STOP', 'model_name': 'gemini-2.0-flash', 'safety_ratings': []}, id='run--1f168830-a453-465b-b385-60587c58335b-0', usage_metadata={'input_tokens': 74, 'output_tokens': 10, 'total_tokens': 84, 'input_token_details': {'cache_read': 0}})]})"
      ]
     },
     "execution_count": 6,
     "metadata": {},
     "output_type": "execute_result"
    }
   ],
   "source": [
    "sf_response, ny_response"
   ]
  },
  {
   "cell_type": "code",
   "execution_count": 7,
   "id": "4f524616",
   "metadata": {},
   "outputs": [
    {
     "data": {
      "text/plain": [
       "WeatherResponse(city='San Francisco', conditions='Sunny')"
      ]
     },
     "execution_count": 7,
     "metadata": {},
     "output_type": "execute_result"
    }
   ],
   "source": [
    "from pydantic import BaseModel\n",
    "\n",
    "class WeatherResponse(BaseModel):\n",
    "    city: str\n",
    "    conditions: str\n",
    "\n",
    "agent = create_react_agent(\n",
    "    model=llm,\n",
    "    tools=[get_weather],\n",
    "    response_format=WeatherResponse  \n",
    ")\n",
    "response = agent.invoke(\n",
    "    {\"messages\": [{\"role\": \"user\", \"content\": \"what is the weather in san francisco?\"}]}\n",
    ")\n",
    "\n",
    "response[\"structured_response\"]"
   ]
  }
 ],
 "metadata": {
  "kernelspec": {
   "display_name": ".venv",
   "language": "python",
   "name": "python3"
  },
  "language_info": {
   "codemirror_mode": {
    "name": "ipython",
    "version": 3
   },
   "file_extension": ".py",
   "mimetype": "text/x-python",
   "name": "python",
   "nbconvert_exporter": "python",
   "pygments_lexer": "ipython3",
   "version": "3.13.5"
  }
 },
 "nbformat": 4,
 "nbformat_minor": 5
}
