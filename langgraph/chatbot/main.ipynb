{
 "cells": [
  {
   "cell_type": "code",
   "execution_count": 11,
   "id": "343ed610",
   "metadata": {},
   "outputs": [],
   "source": [
    "from typing import Annotated\n",
    "\n",
    "from typing_extensions import TypedDict\n",
    "\n",
    "from langgraph.graph import StateGraph, START\n",
    "from langgraph.graph.message import add_messages\n",
    "\n",
    "\n",
    "class State(TypedDict):\n",
    "    # Messages have the type \"list\". The `add_messages` function\n",
    "    # in the annotation defines how this state key should be updated\n",
    "    # (in this case, it appends messages to the list, rather than overwriting them)\n",
    "    messages: Annotated[list, add_messages]\n",
    "\n",
    "\n",
    "graph_builder = StateGraph(State)"
   ]
  },
  {
   "cell_type": "code",
   "execution_count": 12,
   "id": "43e3c5c0",
   "metadata": {},
   "outputs": [],
   "source": [
    "from dotenv import load_dotenv\n",
    "load_dotenv()\n",
    "import os\n",
    "google_api_key = os.getenv('GOOGLE_API_KEY')\n",
    "if not google_api_key: \n",
    "    raise ValueError(\"GOOGLE_API_KEY is not set in the environment variables.\")\n",
    "\n",
    "from langchain.chat_models import init_chat_model\n",
    "llm = init_chat_model(\"google_genai:gemini-2.0-flash\")"
   ]
  },
  {
   "cell_type": "code",
   "execution_count": 13,
   "id": "e2cc19ba",
   "metadata": {},
   "outputs": [
    {
     "data": {
      "text/plain": [
       "<langgraph.graph.state.StateGraph at 0x1124f1d10>"
      ]
     },
     "execution_count": 13,
     "metadata": {},
     "output_type": "execute_result"
    }
   ],
   "source": [
    "def chatbot(state: State):\n",
    "    return {\"messages\": [llm.invoke(state[\"messages\"])]}\n",
    "\n",
    "\n",
    "# The first argument is the unique node name\n",
    "# The second argument is the function or object that will be called whenever\n",
    "# the node is used.\n",
    "graph_builder.add_node(\"chatbot\", chatbot)"
   ]
  },
  {
   "cell_type": "code",
   "execution_count": 6,
   "id": "0291cac7",
   "metadata": {},
   "outputs": [
    {
     "data": {
      "text/plain": [
       "<langgraph.graph.state.StateGraph at 0x110828980>"
      ]
     },
     "execution_count": 6,
     "metadata": {},
     "output_type": "execute_result"
    }
   ],
   "source": [
    "graph_builder.add_edge(START, \"chatbot\")"
   ]
  },
  {
   "cell_type": "code",
   "execution_count": 7,
   "id": "ffb3d341",
   "metadata": {},
   "outputs": [],
   "source": [
    "graph = graph_builder.compile()"
   ]
  },
  {
   "cell_type": "code",
   "execution_count": 8,
   "id": "9a7e33c5",
   "metadata": {},
   "outputs": [
    {
     "data": {
      "image/png": "[encoded data removed]",
      "text/plain": [
       "<langgraph.graph.state.CompiledStateGraph object at 0x1124ee510>"
      ]
     },
     "execution_count": 8,
     "metadata": {},
     "output_type": "execute_result"
    }
   ],
   "source": [
    "graph"
   ]
  },
  {
   "cell_type": "code",
   "execution_count": 9,
   "id": "e127e270",
   "metadata": {},
   "outputs": [
    {
     "data": {
      "image/png": "[encoded data removed]",
      "text/plain": [
       "<IPython.core.display.Image object>"
      ]
     },
     "metadata": {},
     "output_type": "display_data"
    }
   ],
   "source": [
    "from IPython.display import Image, display\n",
    "\n",
    "try:\n",
    "    display(Image(graph.get_graph().draw_mermaid_png()))\n",
    "except Exception:\n",
    "    # This requires some extra dependencies and is optional\n",
    "    pass"
   ]
  },
  {
   "cell_type": "code",
   "execution_count": 10,
   "id": "d0cd57f0",
   "metadata": {},
   "outputs": [
    {
     "name": "stdout",
     "output_type": "stream",
     "text": [
      "Assistant: Okay, let's break down how to get started with LangGraph coding.  LangGraph is a powerful library for building conversational agents (like chatbots) with complex, stateful logic and branching conversations.  Here's a structured approach, covering the key concepts and steps:\n",
      "\n",
      "**1. Understanding the Core Concepts**\n",
      "\n",
      "Before diving into the code, it's crucial to grasp the fundamental ideas behind LangGraph:\n",
      "\n",
      "*   **Nodes:** These are the building blocks of your graph. Each node represents a step in the conversation or a unit of processing.  Nodes can be:\n",
      "    *   **LLMs (Language Model Nodes):**  Call a language model (like GPT-3/4, PaLM, Llama, etc.) to generate text, answer questions, or perform tasks.\n",
      "    *   **Tools:**  Use external tools (search engines, calculators, databases) to augment the LLM's capabilities.\n",
      "    *   **Python Functions:**  Run arbitrary Python code to manipulate data, perform calculations, or interact with APIs.\n",
      "*   **Edges:**  Edges define the flow of information between nodes. They connect nodes and determine the order in which they are executed.  Key types of edges:\n",
      "    *   **Conditional Edges:**  The next node to execute depends on the output of the current node (e.g., \"if the user asks a question about weather, go to the weather tool node\").\n",
      "    *   **Unconditional Edges:**  Always go to the specified next node.\n",
      "*   **State:**  LangGraph is *stateful*.  This means it maintains information about the conversation's history and the current state of the agent. The state is typically represented as a dictionary or a custom class.  Nodes can read and modify the state.\n",
      "*   **Graph:**  The overall structure that connects the nodes and edges.  The graph defines the entire conversational flow.\n",
      "*   **Agent:**  An agent is a runnable instance of the graph.  You feed it input (user messages), and it executes the graph, updating the state and generating responses.\n",
      "\n",
      "**2. Installation and Setup**\n",
      "\n",
      "1.  **Install LangChain and LangGraph:**  LangGraph builds on LangChain, so you need both.\n",
      "\n",
      "    ```bash\n",
      "    pip install langchain langgraph langchain-core langchain-community\n",
      "    ```\n",
      "\n",
      "2.  **Set up API Keys:** You'll need API keys for any LLMs or tools you plan to use.  Common ones include:\n",
      "    *   **OpenAI API Key:**  `OPENAI_API_KEY`\n",
      "    *   **SerpAPI Key:** `SERPAPI_API_KEY` (for search)\n",
      "    *   **Other tool-specific keys:**  Follow the instructions for the specific tools you're using.\n",
      "\n",
      "    You can set these as environment variables:\n",
      "\n",
      "    ```bash\n",
      "    export OPENAI_API_KEY=\"your_openai_api_key\"\n",
      "    export SERPAPI_API_KEY=\"your_serpapi_api_key\"\n",
      "    ```\n",
      "\n",
      "    Or, you can set them directly in your Python code (less secure for production):\n",
      "\n",
      "    ```python\n",
      "    import os\n",
      "    os.environ[\"OPENAI_API_KEY\"] = \"your_openai_api_key\"\n",
      "    os.environ[\"SERPAPI_API_KEY\"] = \"your_serpapi_api_key\"\n",
      "    ```\n",
      "\n",
      "**3. A Simple Example: Echo Agent**\n",
      "\n",
      "Let's start with a very basic example to illustrate the core concepts. This agent simply echoes back what the user says.\n",
      "\n",
      "```python\n",
      "from langchain_core.runnables import chain\n",
      "from langchain_core.messages import BaseMessage, HumanMessage\n",
      "from langgraph.graph import StateGraph, END\n",
      "from typing import TypedDict, List\n",
      "import os\n",
      "from langchain_openai import ChatOpenAI\n",
      "\n",
      "# Define the state of the agent\n",
      "class AgentState(TypedDict):\n",
      "    messages: List[BaseMessage]\n",
      "\n",
      "# Define a node that echoes the user message\n",
      "@chain\n",
      "def echo_node(state: AgentState):\n",
      "    user_message = state[\"messages\"][-1].content  # Get the last message\n",
      "    return {\"messages\": [HumanMessage(content=f\"You said: {user_message}\")]}\n",
      "\n",
      "# Create a new graph\n",
      "graph = StateGraph(AgentState)\n",
      "\n",
      "# Add the echo node to the graph\n",
      "graph.add_node(\"echo\", echo_node)\n",
      "\n",
      "# Define the edge: always go from the start to the echo node\n",
      "graph.add_edge(\"start\", \"echo\")\n",
      "\n",
      "# Define the edge: always go from the echo node to the end\n",
      "graph.add_edge(\"echo\", END)\n",
      "\n",
      "# Set the entry point of the graph\n",
      "graph.set_entry_point(\"start\")\n",
      "\n",
      "# Compile the graph\n",
      "app = graph.compile()\n",
      "\n",
      "# Test the agent\n",
      "inputs = {\"messages\": [HumanMessage(content=\"Hello, LangGraph!\")]}\n",
      "response = app.invoke(inputs)\n",
      "print(response)\n",
      "```\n",
      "\n",
      "Key improvements and explanations:\n",
      "\n",
      "*   **`AgentState`:**  This `TypedDict` defines the structure of the agent's state.  Here, it's a list of `BaseMessage` objects (which can be `HumanMessage`, `AIMessage`, etc.). This is crucial for maintaining the conversation history.\n",
      "*   **`echo_node`:** This is a simple node that takes the current state, extracts the last user message, and returns a new state with an echo message.  The `@chain` decorator from `langchain_core.runnables` is used to make the node a LangChain runnable. This is the simplest way to make a node.\n",
      "*   **`StateGraph`:** We initialize the graph with the `AgentState` type.\n",
      "*   **`graph.add_edge`:**  We define the flow of the graph.  \"start\" is a special node that represents the beginning of the graph.  `END` is a special node that represents the end of the graph.\n",
      "*   **`graph.set_entry_point`:** Specifies where the graph starts.\n",
      "*   **`graph.compile()`:** Compiles the graph into a runnable LangChain application.\n",
      "*   **`app.invoke()`:**  Invokes the agent with the initial input.  This starts the execution of the graph.\n",
      "*   **`HumanMessage`:**  Represents a message from the user.  You'll often use `AIMessage` for messages from the agent.\n",
      "*   **`langchain_core.messages`:** Provides the message classes.\n",
      "*   **`langchain_core.runnables`:** Provides the `chain` decorator for defining nodes.\n",
      "*   **No API key needed:** This example doesn't use any LLMs or tools, so no API key is required.\n",
      "\n",
      "**4. A More Realistic Example: Question Answering with OpenAI and Search**\n",
      "\n",
      "This example demonstrates how to use an LLM and a tool (SerpAPI for search) within a LangGraph agent.\n",
      "\n",
      "```python\n",
      "from langchain_core.messages import BaseMessage, HumanMessage, AIMessage\n",
      "from langchain_core.prompts import ChatPromptTemplate, MessagesPlaceholder\n",
      "from langchain_core.runnables import chain\n",
      "from langchain_openai import ChatOpenAI\n",
      "from langgraph.graph import StateGraph, END\n",
      "from typing import TypedDict, List, Dict, Any\n",
      "import os\n",
      "from langchain_community.utilities import SerpAPIWrapper\n",
      "\n",
      "# 1. Define the Agent State\n",
      "class AgentState(TypedDict):\n",
      "    messages: List[BaseMessage]\n",
      "    steps: List[Dict[str, str]]\n",
      "\n",
      "# 2. Define the Nodes\n",
      "@chain\n",
      "def search_node(state: AgentState):\n",
      "    \"\"\"Searches for information based on the last user message.\"\"\"\n",
      "    messages = state['messages']\n",
      "    last_message = messages[-1].content\n",
      "    search = SerpAPIWrapper()\n",
      "    results = search.run(last_message)\n",
      "    return {\"messages\": [AIMessage(content=results)], \"steps\": state[\"steps\"] + [{\"action\": \"search\", \"value\": results}]}\n",
      "\n",
      "def llm_node(state: AgentState):\n",
      "    \"\"\"Uses an LLM to respond to the user, incorporating search results.\"\"\"\n",
      "    messages = state['messages']\n",
      "    prompt = ChatPromptTemplate.from_messages([\n",
      "        MessagesPlaceholder(variable_name=\"messages\")\n",
      "    ])\n",
      "    model = ChatOpenAI(temperature=0.7)\n",
      "    response = model.invoke(prompt.format(messages=messages))\n",
      "    return {\"messages\": [response], \"steps\": state[\"steps\"] + [{\"action\": \"llm\", \"value\": response.content}]}\n",
      "\n",
      "# 3. Define the Graph\n",
      "graph = StateGraph(AgentState)\n",
      "graph.add_node(\"search\", search_node)\n",
      "graph.add_node(\"llm\", llm_node)\n",
      "\n",
      "# 4. Define the Edges\n",
      "graph.add_edge(\"search\", \"llm\")\n",
      "graph.add_edge(\"llm\", END)\n",
      "graph.set_entry_point(\"search\")\n",
      "\n",
      "# 5. Compile the Graph\n",
      "app = graph.compile()\n",
      "\n",
      "# 6. Run the Agent\n",
      "inputs = {\"messages\": [HumanMessage(content=\"What is the capital of France?\")]}\n",
      "response = app.invoke(inputs)\n",
      "print(response)\n",
      "```\n",
      "\n",
      "Key improvements and explanations:\n",
      "\n",
      "*   **API Key:**  This example requires `OPENAI_API_KEY` and `SERPAPI_API_KEY`.\n",
      "*   **`AgentState`:** Now includes `steps` to track the actions taken by the agent and their results.\n",
      "*   **`search_node`:** Uses `SerpAPIWrapper` to perform a search based on the user's last message.  It adds the search results as an `AIMessage` to the state. It also adds a step to the `steps` list.\n",
      "*   **`llm_node`:**\n",
      "    *   Uses a `ChatPromptTemplate` to format the conversation history for the LLM.  This is essential for giving the LLM context.\n",
      "    *   Uses `ChatOpenAI` to call the OpenAI API.\n",
      "    *   Adds the LLM's response as an `AIMessage` to the state. It also adds a step to the `steps` list.\n",
      "*   **Edges:** The graph now has a flow: search -> LLM -> END.\n",
      "*   **Prompt Engineering:** The prompt in `llm_node` is crucial.  Experiment with different prompts to guide the LLM's behavior. You can include instructions like: \"Summarize the search results and answer the user's question.\"\n",
      "\n",
      "**5.  Advanced Concepts and Techniques**\n",
      "\n",
      "*   **Conditional Edges:**  Use `graph.add_conditional_edges` to create branching logic.  For example, you could have a node that determines if the user is asking a question that requires search or if the LLM can answer it directly.\n",
      "\n",
      "    ```python\n",
      "    def should_search(state: AgentState):\n",
      "        \"\"\"Determine whether to use the search tool.\"\"\"\n",
      "        # Implement logic here based on the state (e.g., user message)\n",
      "        if \"search\" in state[\"messages\"][-1].content.lower():\n",
      "            return \"search\"\n",
      "        else:\n",
      "            return \"llm\"\n",
      "\n",
      "    graph.add_conditional_edges(\n",
      "        \"llm\",\n",
      "        should_search,\n",
      "        {\n",
      "            \"search\": \"search\",  # If should_search returns \"search\", go to the search node\n",
      "            \"llm\": END,         # If should_search returns \"llm\", go to the end node\n",
      "        },\n",
      "    )\n",
      "    ```\n",
      "\n",
      "*   **Loops:**  Create loops in your graph to handle multiple turns of conversation or to retry failed operations.\n",
      "\n",
      "    ```python\n",
      "    graph.add_edge(\"llm\", \"start\") # go back to the start to process the next message\n",
      "    ```\n",
      "\n",
      "*   **Error Handling:**  Use `try...except` blocks within your nodes to catch exceptions and handle errors gracefully.\n",
      "\n",
      "*   **Custom Tools:**  Create your own tools using LangChain's tool interface to integrate with specific APIs or services.\n",
      "\n",
      "*   **State Management:**  Design your `AgentState` carefully to store all the information your agent needs to function correctly. Consider using a database or other persistent storage for long-running conversations.\n",
      "\n",
      "*   **Streaming:**  LangGraph supports streaming responses from LLMs. This can improve the user experience by providing more immediate feedback.\n",
      "\n",
      "*   **Parallelism:**  LangGraph can execute nodes in parallel to improve performance.\n",
      "\n",
      "**6. Debugging and Testing**\n",
      "\n",
      "*   **Logging:**  Use Python's `logging` module to log information about the execution of your graph. This can help you identify errors and understand the flow of the conversation.\n",
      "*   **Print Statements:**  Add `print` statements to your nodes to inspect the state and the values of variables.\n",
      "*   **Unit Tests:**  Write unit tests for your nodes to ensure they are functioning correctly.\n",
      "*   **Interactive Debugging:**  Use a debugger (like `pdb`) to step through the execution of your graph and inspect the state at each step.\n",
      "\n",
      "**7. Best Practices**\n",
      "\n",
      "*   **Modular Design:**  Break your graph into smaller, reusable nodes.\n",
      "*   **Clear State Definition:**  Define your `AgentState` clearly and document its purpose.\n",
      "*   **Prompt Engineering:**  Invest time in crafting effective prompts for your LLMs.\n",
      "*   **Error Handling:**  Implement robust error handling to prevent your agent from crashing.\n",
      "*   **Testing:**  Thoroughly test your agent to ensure it is functioning correctly.\n",
      "*   **Documentation:**  Document your code and your graph's design.\n",
      "\n",
      "**8. Resources**\n",
      "\n",
      "*   **LangChain Documentation:**  [https://python.langchain.com/](https://python.langchain.com/) (LangGraph builds on LangChain)\n",
      "*   **LangGraph Documentation:** [https://github.com/langchain-ai/langgraph](https://github.com/langchain-ai/langgraph) (Official LangGraph GitHub repository - look for examples in the `examples` directory)\n",
      "*   **LangChain Examples:**  [https://github.com/langchain-ai/langchain/tree/master/libs/langchain/langchain/chains](https://github.com/langchain-ai/langchain/tree/master/libs/langchain/langchain/chains)  (Many LangChain examples can be adapted for use with LangGraph)\n",
      "*   **LangChainHub:**  [https://github.com/hwchase17/langchain-hub](https://github.com/hwchase17/langchain-hub) (Community-contributed prompts, chains, and agents)\n",
      "*   **LangChain Discord:**  The LangChain Discord server is a great place to ask questions and get help from the community.\n",
      "\n",
      "By following these steps and exploring the provided resources, you'll be well on your way to building sophisticated conversational agents with LangGraph! Remember to start small, experiment, and iterate.  Good luck!\n",
      "Assistant: LangGraph is a powerful library built on top of LangChain that allows you to construct **stateful, multi-actor applications** as graphs. Think of it as a way to orchestrate complex workflows where different agents (or other components) interact with each other and the environment over multiple steps, while maintaining and updating a shared state.\n",
      "\n",
      "Here's a breakdown of what I know about LangGraph:\n",
      "\n",
      "**Key Concepts and Features:**\n",
      "\n",
      "*   **Stateful Actors:** LangGraph is designed for applications that require maintaining state across multiple interactions. This is crucial for tasks like chatbots, agents that learn and adapt over time, and complex decision-making processes.\n",
      "*   **Graph Structure:** You define the application's logic as a graph where:\n",
      "    *   **Nodes:** Represent individual actors or steps in the workflow. These can be LangChain chains, agents, tools, or any other Python function.\n",
      "    *   **Edges:** Define the flow of control and data between nodes. They determine which node is executed next based on the current state.\n",
      "*   **Cycles:** LangGraph naturally supports cycles, allowing for iterative processes and feedback loops. This is essential for agents that need to refine their actions based on previous results.\n",
      "*   **Conditional Routing:** Edges can be conditional, allowing the graph to branch based on the current state. This enables dynamic decision-making and adaptation to different situations.\n",
      "*   **Easy Integration with LangChain:** LangGraph is built to seamlessly integrate with existing LangChain components, making it easy to leverage your existing chains, agents, and tools.\n",
      "*   **Simplified Debugging and Visualization:** The graph structure provides a clear visual representation of the application's logic, making it easier to understand, debug, and maintain.  You can visualize the graph using tools like `graphviz`.\n",
      "*   **Scalability and Modularity:** The modular nature of the graph makes it easier to scale and modify the application as needed.\n",
      "*   **Use Cases:** LangGraph excels in scenarios like:\n",
      "    *   **Chatbots with Memory:** Maintaining conversation history and context.\n",
      "    *   **Autonomous Agents:** Orchestrating agents that perform tasks, learn from their experiences, and adapt their strategies.\n",
      "    *   **Complex Decision-Making Systems:** Modeling complex workflows with multiple steps, dependencies, and feedback loops.\n",
      "    *   **Planning and Execution:** Allowing agents to plan a sequence of actions and then execute them step-by-step.\n",
      "\n",
      "**Key Components:**\n",
      "\n",
      "*   **`StateGraph`:** The core class for defining the graph structure. You add nodes, edges, and configure the state using this class.\n",
      "*   **Nodes:**  Represent individual steps in your workflow. These can be:\n",
      "    *   LangChain chains (LLMs, prompts, etc.)\n",
      "    *   Tools\n",
      "    *   Custom Python functions\n",
      "    *   Agents\n",
      "*   **Edges:** Define the connections between nodes.\n",
      "    *   **`add_edge(start_node, end_node)`:**  A simple edge that always transitions from `start_node` to `end_node`.\n",
      "    *   **`add_conditional_edges(start_node, conditional_function, edges_mapping)`:**  An edge that uses a function to determine which node to transition to based on the current state.\n",
      "*   **State:**  A class that defines the data being passed around and updated as the graph executes.  It often inherits from `TypedDict` to define the structure of the state.\n",
      "*   **`RunnableGraph`:** Once the `StateGraph` is defined, you can convert it to a `RunnableGraph`, which can then be executed using standard LangChain `invoke` or `stream` methods.\n",
      "\n",
      "**How it Works (Simplified):**\n",
      "\n",
      "1.  **Define the State:** Create a state class that holds the data that will be passed between nodes.\n",
      "2.  **Define the Nodes:** Create the individual nodes that will perform specific actions.  These could be LangChain chains, agents, or custom functions.\n",
      "3.  **Define the Graph:** Create a `StateGraph` instance.\n",
      "4.  **Add Nodes:** Add the nodes to the graph using `add_node()`.\n",
      "5.  **Define Edges:** Define the connections between the nodes using `add_edge()` for simple transitions or `add_conditional_edges()` for more complex routing.\n",
      "6.  **Compile the Graph:** Compile the `StateGraph` into a `RunnableGraph`.\n",
      "7.  **Execute the Graph:** Execute the `RunnableGraph` using `invoke()` to get the final state or `stream()` to get intermediate results.\n",
      "\n",
      "**Example (Conceptual):**\n",
      "\n",
      "Imagine a chatbot that answers questions about a document.\n",
      "\n",
      "1.  **State:** The state might include the conversation history, the current question, and the retrieved document.\n",
      "2.  **Nodes:**\n",
      "    *   **Retrieve Document:** Retrieves relevant documents based on the question.\n",
      "    *   **Generate Answer:** Uses an LLM to generate an answer based on the retrieved document and the conversation history.\n",
      "3.  **Edges:**\n",
      "    *   The graph would start at the \"Retrieve Document\" node.\n",
      "    *   After retrieving the document, it would transition to the \"Generate Answer\" node.\n",
      "    *   The graph could then cycle back to a \"User Input\" node to get the next question, updating the conversation history in the state.\n",
      "\n",
      "**Advantages of Using LangGraph:**\n",
      "\n",
      "*   **Improved Organization:** Provides a structured way to organize complex agent workflows.\n",
      "*   **Enhanced Debugging:** The graph structure makes it easier to understand and debug the application's logic.\n",
      "*   **Increased Flexibility:** Allows for dynamic routing and adaptation to different situations.\n",
      "*   **Better Maintainability:** The modular nature of the graph makes it easier to maintain and modify the application over time.\n",
      "\n",
      "**Limitations:**\n",
      "\n",
      "*   **Complexity:**  Designing and implementing LangGraph applications can be complex, especially for intricate workflows.\n",
      "*   **Learning Curve:** Requires understanding of LangChain concepts and graph theory.\n",
      "*   **Relatively New:**  As a relatively new library, the documentation and community support might not be as extensive as for more established libraries.\n",
      "\n",
      "**In summary, LangGraph is a powerful tool for building complex, stateful, multi-actor applications with LangChain. It provides a structured and flexible way to orchestrate workflows, making it easier to build sophisticated AI systems.**\n",
      "Goodbye!\n"
     ]
    }
   ],
   "source": [
    "def stream_graph_updates(user_input: str):\n",
    "    for event in graph.stream({\"messages\": [{\"role\": \"user\", \"content\": user_input}]}):\n",
    "        for value in event.values():\n",
    "            print(\"Assistant:\", value[\"messages\"][-1].content)\n",
    "\n",
    "\n",
    "while True:\n",
    "    try:\n",
    "        user_input = input(\"User: \")\n",
    "        if user_input.lower() in [\"quit\", \"exit\", \"q\"]:\n",
    "            print(\"Goodbye!\")\n",
    "            break\n",
    "        stream_graph_updates(user_input)\n",
    "    except:\n",
    "        # fallback if input() is not available\n",
    "        user_input = \"What do you know about LangGraph?\"\n",
    "        print(\"User: \" + user_input)\n",
    "        stream_graph_updates(user_input)\n",
    "        break"
   ]
  },
  {
   "cell_type": "code",
   "execution_count": 15,
   "id": "792e2aea",
   "metadata": {},
   "outputs": [
    {
     "data": {
      "text/plain": [
       "{'query': \"What's a 'node' in LangGraph?\",\n",
       " 'follow_up_questions': None,\n",
       " 'answer': None,\n",
       " 'images': [],\n",
       " 'results': [{'title': 'What is LangGraph? - GeeksforGeeks',\n",
       "   'url': 'https://www.geeksforgeeks.org/machine-learning/what-is-langgraph/',\n",
       "   'content': 'LangGraph is a Python library that helps you build applications like chatbots or AI agents by organizing their logic step-by-step using state machine model. This step configures your Gemini API key and then we create a simple function `ask_gemini` that takes user input, sends it to the Gemini model and returns the AI-generated response. Creates a state structure with three fields: `question`, `classification` and `response` which flows through the LangGraph. import matplotlib.pyplot as plt from langgraph.graph import StateGraph\\u200bbuilder = StateGraph(GraphState)builder.add_node(\"classify\", classify)builder.add_node(\"respond\", respond)builder.set_entry_point(\"classify\")builder.add_edge(\"classify\", \"respond\")builder.set_finish_point(\"respond\")app = builder.compile()\\u200bdef visualize_workflow(builder): G = nx.DiGraph()\\u200b for node in builder.nodes: G.add_node(node) for edge in builder.edges: G.add_edge(edge[0], edge[1])\\u200b pos = nx.spring_layout(G) nx.draw(G, pos, with_labels=True, node_size=3000, node_color=\"skyblue\", font_size=12, font_weight=\"bold\", arrows=True)  plt.title(\"Langchain Workflow Visualization\") plt.show()\\u200bvisualize_workflow(builder)',\n",
       "   'score': 0.69249696,\n",
       "   'raw_content': None},\n",
       "  {'title': 'LangGraph Basics: Understanding State, Schema, Nodes, and Edges',\n",
       "   'url': 'https://medium.com/@vivekvjnk/langgraph-basics-understanding-state-schema-nodes-and-edges-77f2fd17cae5',\n",
       "   'content': 'LangGraph Basics: Understanding State, Schema, Nodes, and Edges | by Story_Teller | Medium LangGraph Basics: Understanding State, Schema, Nodes, and Edges LangGraph Basics: Understanding State, Schema, Nodes, and Edges These predefined structures in the messaging app are synonymous with the schema of the state in LangGraph. Just as a messaging app ensures all interactions (messages) follow a consistent format, the schema in LangGraph ensures the state passed along edges is structured and interpretable. This static schema allows nodes to rely on a consistent state format, ensuring seamless communication along edges throughout the graph. In this article, we explored the foundational concepts of graph-based systems, drawing parallels to familiar messaging applications to illustrate how edges, nodes, and state transitions function seamlessly in dynamic workflows.',\n",
       "   'score': 0.6501347,\n",
       "   'raw_content': None}],\n",
       " 'response_time': 1.67}"
      ]
     },
     "execution_count": 15,
     "metadata": {},
     "output_type": "execute_result"
    }
   ],
   "source": [
    "from langchain_tavily import TavilySearch\n",
    "\n",
    "tool = TavilySearch(max_results=2)\n",
    "tools = [tool]\n",
    "tool.invoke(\"What's a 'node' in LangGraph?\")"
   ]
  },
  {
   "cell_type": "code",
   "execution_count": 16,
   "id": "5da9297a",
   "metadata": {},
   "outputs": [],
   "source": [
    "from langgraph.checkpoint.memory import MemorySaver\n",
    "memory = MemorySaver()"
   ]
  },
  {
   "cell_type": "code",
   "execution_count": 18,
   "id": "06e13b14",
   "metadata": {},
   "outputs": [
    {
     "data": {
      "image/png": "[encoded data removed]",
      "text/plain": [
       "<langgraph.graph.state.CompiledStateGraph object at 0x11271c910>"
      ]
     },
     "execution_count": 18,
     "metadata": {},
     "output_type": "execute_result"
    }
   ],
   "source": [
    "graph_builder.add_edge(START, \"chatbot\")\n",
    "graph = graph_builder.compile(checkpointer=memory)\n",
    "graph"
   ]
  },
  {
   "cell_type": "code",
   "execution_count": 19,
   "id": "444d434f",
   "metadata": {},
   "outputs": [],
   "source": [
    "config = {\"configurable\": {\"thread_id\": \"1\"}}"
   ]
  },
  {
   "cell_type": "code",
   "execution_count": 20,
   "id": "21d9df05",
   "metadata": {},
   "outputs": [
    {
     "name": "stdout",
     "output_type": "stream",
     "text": [
      "================================\u001b[1m Human Message \u001b[0m=================================\n",
      "\n",
      "Hi there! My name is Will.\n",
      "==================================\u001b[1m Ai Message \u001b[0m==================================\n",
      "\n",
      "Hi Will! It's nice to meet you. How can I help you today?\n"
     ]
    }
   ],
   "source": [
    "user_input = \"Hi there! My name is Will.\"\n",
    "\n",
    "# The config is the **second positional argument** to stream() or invoke()!\n",
    "events = graph.stream(\n",
    "    {\"messages\": [{\"role\": \"user\", \"content\": user_input}]},\n",
    "    config,\n",
    "    stream_mode=\"values\",\n",
    ")\n",
    "for event in events:\n",
    "    event[\"messages\"][-1].pretty_print()"
   ]
  },
  {
   "cell_type": "code",
   "execution_count": 21,
   "id": "31f662c3",
   "metadata": {},
   "outputs": [
    {
     "name": "stdout",
     "output_type": "stream",
     "text": [
      "================================\u001b[1m Human Message \u001b[0m=================================\n",
      "\n",
      "Remember my name?\n",
      "==================================\u001b[1m Ai Message \u001b[0m==================================\n",
      "\n",
      "Yes, Will! I remember your name.\n"
     ]
    }
   ],
   "source": [
    "user_input = \"Remember my name?\"\n",
    "\n",
    "# The config is the **second positional argument** to stream() or invoke()!\n",
    "events = graph.stream(\n",
    "    {\"messages\": [{\"role\": \"user\", \"content\": user_input}]},\n",
    "    config,\n",
    "    stream_mode=\"values\",\n",
    ")\n",
    "for event in events:\n",
    "    event[\"messages\"][-1].pretty_print()"
   ]
  },
  {
   "cell_type": "code",
   "execution_count": 22,
   "id": "afd95844",
   "metadata": {},
   "outputs": [
    {
     "name": "stdout",
     "output_type": "stream",
     "text": [
      "================================\u001b[1m Human Message \u001b[0m=================================\n",
      "\n",
      "Remember my name?\n",
      "==================================\u001b[1m Ai Message \u001b[0m==================================\n",
      "\n",
      "As a large language model, I don't have memory of past conversations. So, I don't remember your name. You'll need to tell me again!\n"
     ]
    }
   ],
   "source": [
    "# The only difference is we change the `thread_id` here to \"2\" instead of \"1\"\n",
    "events = graph.stream(\n",
    "    {\"messages\": [{\"role\": \"user\", \"content\": user_input}]},\n",
    "    {\"configurable\": {\"thread_id\": \"2\"}},\n",
    "    stream_mode=\"values\",\n",
    ")\n",
    "for event in events:\n",
    "    event[\"messages\"][-1].pretty_print()"
   ]
  },
  {
   "cell_type": "code",
   "execution_count": 23,
   "id": "3f443eb3",
   "metadata": {},
   "outputs": [
    {
     "data": {
      "text/plain": [
       "StateSnapshot(values={'messages': [HumanMessage(content='Hi there! My name is Will.', additional_kwargs={}, response_metadata={}, id='0f9a235a-dad4-44c4-92c1-628e6ebdd753'), AIMessage(content=\"Hi Will! It's nice to meet you. How can I help you today?\", additional_kwargs={}, response_metadata={'prompt_feedback': {'block_reason': 0, 'safety_ratings': []}, 'finish_reason': 'STOP', 'model_name': 'gemini-2.0-flash', 'safety_ratings': []}, id='run--250302f4-45ea-497d-aa8a-bb034cb4f5f8-0', usage_metadata={'input_tokens': 8, 'output_tokens': 19, 'total_tokens': 27, 'input_token_details': {'cache_read': 0}}), HumanMessage(content='Remember my name?', additional_kwargs={}, response_metadata={}, id='2d1b71d7-a2ac-4df1-b16c-05a4e6af28a0'), AIMessage(content='Yes, Will! I remember your name.', additional_kwargs={}, response_metadata={'prompt_feedback': {'block_reason': 0, 'safety_ratings': []}, 'finish_reason': 'STOP', 'model_name': 'gemini-2.0-flash', 'safety_ratings': []}, id='run--7257b71d-2164-425b-8a56-fb2d42b9a312-0', usage_metadata={'input_tokens': 30, 'output_tokens': 10, 'total_tokens': 40, 'input_token_details': {'cache_read': 0}})]}, next=(), config={'configurable': {'thread_id': '1', 'checkpoint_ns': '', 'checkpoint_id': '1f04be55-67ec-6376-8004-0c1d77d4d0d3'}}, metadata={'source': 'loop', 'writes': {'chatbot': {'messages': [AIMessage(content='Yes, Will! I remember your name.', additional_kwargs={}, response_metadata={'prompt_feedback': {'block_reason': 0, 'safety_ratings': []}, 'finish_reason': 'STOP', 'model_name': 'gemini-2.0-flash', 'safety_ratings': []}, id='run--7257b71d-2164-425b-8a56-fb2d42b9a312-0', usage_metadata={'input_tokens': 30, 'output_tokens': 10, 'total_tokens': 40, 'input_token_details': {'cache_read': 0}})]}}, 'step': 4, 'parents': {}, 'thread_id': '1'}, created_at='2025-06-18T01:41:21.922731+00:00', parent_config={'configurable': {'thread_id': '1', 'checkpoint_ns': '', 'checkpoint_id': '1f04be55-606a-6f6c-8003-7c10e9d86b31'}}, tasks=(), interrupts=())"
      ]
     },
     "execution_count": 23,
     "metadata": {},
     "output_type": "execute_result"
    }
   ],
   "source": [
    "snapshot = graph.get_state(config)\n",
    "snapshot"
   ]
  },
  {
   "cell_type": "code",
   "execution_count": 24,
   "id": "59ce0305",
   "metadata": {},
   "outputs": [
    {
     "data": {
      "text/plain": [
       "()"
      ]
     },
     "execution_count": 24,
     "metadata": {},
     "output_type": "execute_result"
    }
   ],
   "source": [
    "snapshot.next  # (since the graph ended this turn, `next` is empty. If you fetch a state from within a graph invocation, next tells which node will execute next)"
   ]
  },
  {
   "cell_type": "code",
   "execution_count": 27,
   "id": "3bade2fa",
   "metadata": {},
   "outputs": [],
   "source": [
    "from langgraph.types import Command, interrupt\n",
    "from langchain_core.tools import tool\n",
    "@tool\n",
    "def human_assistance(query: str) -> str:\n",
    "    \"\"\"Request assistance from a human.\"\"\"\n",
    "    human_response = interrupt({\"query\": query})\n",
    "    return human_response[\"data\"]"
   ]
  },
  {
   "cell_type": "code",
   "execution_count": 30,
   "id": "7fc73b73",
   "metadata": {},
   "outputs": [
    {
     "data": {
      "text/plain": [
       "<langgraph.graph.state.StateGraph at 0x11710ee90>"
      ]
     },
     "execution_count": 30,
     "metadata": {},
     "output_type": "execute_result"
    }
   ],
   "source": [
    "from langgraph.prebuilt import ToolNode, tools_condition\n",
    "class State(TypedDict):\n",
    "    messages: Annotated[list, add_messages]\n",
    "\n",
    "graph_builder = StateGraph(State)\n",
    "\n",
    "tool = TavilySearch(max_results=2)\n",
    "tools = [tool, human_assistance]\n",
    "llm_with_tools = llm.bind_tools(tools)\n",
    "\n",
    "def chatbot(state: State):\n",
    "    message = llm_with_tools.invoke(state[\"messages\"])\n",
    "    # Because we will be interrupting during tool execution,\n",
    "    # we disable parallel tool calling to avoid repeating any\n",
    "    # tool invocations when we resume.\n",
    "    assert len(message.tool_calls) <= 1\n",
    "    return {\"messages\": [message]}\n",
    "\n",
    "graph_builder.add_node(\"chatbot\", chatbot)\n",
    "\n",
    "tool_node = ToolNode(tools=tools)\n",
    "graph_builder.add_node(\"tools\", tool_node)\n",
    "\n",
    "graph_builder.add_conditional_edges(\n",
    "    \"chatbot\",\n",
    "    tools_condition,\n",
    ")\n",
    "graph_builder.add_edge(\"tools\", \"chatbot\")\n",
    "graph_builder.add_edge(START, \"chatbot\")"
   ]
  },
  {
   "cell_type": "code",
   "execution_count": 32,
   "id": "247463a1",
   "metadata": {},
   "outputs": [
    {
     "data": {
      "image/png": "[encoded data removed]",
      "text/plain": [
       "<langgraph.graph.state.CompiledStateGraph object at 0x11710f390>"
      ]
     },
     "execution_count": 32,
     "metadata": {},
     "output_type": "execute_result"
    }
   ],
   "source": [
    "memory = MemorySaver()\n",
    "\n",
    "graph = graph_builder.compile(checkpointer=memory)\n",
    "graph"
   ]
  },
  {
   "cell_type": "code",
   "execution_count": 33,
   "id": "ad3e29a6",
   "metadata": {},
   "outputs": [
    {
     "name": "stdout",
     "output_type": "stream",
     "text": [
      "================================\u001b[1m Human Message \u001b[0m=================================\n",
      "\n",
      "I need some expert guidance for building an AI agent. Could you request assistance for me?\n",
      "==================================\u001b[1m Ai Message \u001b[0m==================================\n",
      "Tool Calls:\n",
      "  human_assistance (566b89c7-ba2d-4b90-8ed0-94d1e032aa51)\n",
      " Call ID: 566b89c7-ba2d-4b90-8ed0-94d1e032aa51\n",
      "  Args:\n",
      "    query: I need some expert guidance for building an AI agent.\n"
     ]
    }
   ],
   "source": [
    "user_input = \"I need some expert guidance for building an AI agent. Could you request assistance for me?\"\n",
    "config = {\"configurable\": {\"thread_id\": \"1\"}}\n",
    "\n",
    "events = graph.stream(\n",
    "    {\"messages\": [{\"role\": \"user\", \"content\": user_input}]},\n",
    "    config,\n",
    "    stream_mode=\"values\",\n",
    ")\n",
    "for event in events:\n",
    "    if \"messages\" in event:\n",
    "        event[\"messages\"][-1].pretty_print()"
   ]
  },
  {
   "cell_type": "code",
   "execution_count": 34,
   "id": "71473816",
   "metadata": {},
   "outputs": [
    {
     "data": {
      "text/plain": [
       "('tools',)"
      ]
     },
     "execution_count": 34,
     "metadata": {},
     "output_type": "execute_result"
    }
   ],
   "source": [
    "snapshot = graph.get_state(config)\n",
    "snapshot.next"
   ]
  },
  {
   "cell_type": "code",
   "execution_count": 35,
   "id": "2d9c9c12",
   "metadata": {},
   "outputs": [
    {
     "name": "stdout",
     "output_type": "stream",
     "text": [
      "==================================\u001b[1m Ai Message \u001b[0m==================================\n",
      "Tool Calls:\n",
      "  human_assistance (566b89c7-ba2d-4b90-8ed0-94d1e032aa51)\n",
      " Call ID: 566b89c7-ba2d-4b90-8ed0-94d1e032aa51\n",
      "  Args:\n",
      "    query: I need some expert guidance for building an AI agent.\n",
      "=================================\u001b[1m Tool Message \u001b[0m=================================\n",
      "Name: human_assistance\n",
      "\n",
      "We, the experts are here to help! We'd recommend you check out LangGraph to build your agent. It's much more reliable and extensible than simple autonomous agents.\n",
      "==================================\u001b[1m Ai Message \u001b[0m==================================\n",
      "\n",
      "The experts recommend checking out LangGraph to build your agent. They say it's more reliable and extensible than simple autonomous agents.\n"
     ]
    }
   ],
   "source": [
    "human_response = (\n",
    "    \"We, the experts are here to help! We'd recommend you check out LangGraph to build your agent.\"\n",
    "    \" It's much more reliable and extensible than simple autonomous agents.\"\n",
    ")\n",
    "\n",
    "human_command = Command(resume={\"data\": human_response})\n",
    "\n",
    "events = graph.stream(human_command, config, stream_mode=\"values\")\n",
    "for event in events:\n",
    "    if \"messages\" in event:\n",
    "        event[\"messages\"][-1].pretty_print()"
   ]
  }
 ],
 "metadata": {
  "kernelspec": {
   "display_name": "llm-playground",
   "language": "python",
   "name": "python3"
  },
  "language_info": {
   "codemirror_mode": {
    "name": "ipython",
    "version": 3
   },
   "file_extension": ".py",
   "mimetype": "text/x-python",
   "name": "python",
   "nbconvert_exporter": "python",
   "pygments_lexer": "ipython3",
   "version": "3.13.5"
  }
 },
 "nbformat": 4,
 "nbformat_minor": 5
}
